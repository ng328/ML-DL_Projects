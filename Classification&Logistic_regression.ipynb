{
  "nbformat": 4,
  "nbformat_minor": 0,
  "metadata": {
    "colab": {
      "provenance": [],
      "include_colab_link": true
    },
    "kernelspec": {
      "name": "python3",
      "display_name": "Python 3"
    },
    "language_info": {
      "name": "python"
    }
  },
  "cells": [
    {
      "cell_type": "markdown",
      "metadata": {
        "id": "view-in-github",
        "colab_type": "text"
      },
      "source": [
        "<a href=\"https://colab.research.google.com/github/ng328/ML-DL_Projects/blob/main/Classification%26Logistic_regression.ipynb\" target=\"_parent\"><img src=\"https://colab.research.google.com/assets/colab-badge.svg\" alt=\"Open In Colab\"/></a>"
      ]
    },
    {
      "cell_type": "code",
      "execution_count": null,
      "metadata": {
        "id": "ZSxqA8QVATyx"
      },
      "outputs": [],
      "source": [
        "Classification algo->logistic regression\n",
        "1.supervised ML problem--->1.Regression-->continuous or numerical /\n",
        "                           2.classification (categorical type)/ label as class.\n",
        "\n",
        "regression-->logistic regression --->#used to solve classification problem.\n",
        "\n",
        "statistical method for analyzing a dataset --> more than one features(independent variable)\n",
        "that determine an outcome.\n",
        "\n",
        "The name logistic regression is used when the dependent variable has only two values such as 0 and 1 or yes or no.\n",
        "\n",
        "\n"
      ]
    },
    {
      "cell_type": "code",
      "source": [
        "#How do you classify Iris dataset-->\n",
        "#Iris flower classification-->\n",
        "#problem--> to identify different species (setosa, versicolor,verginica) of iris flowers given just 4 features:\n",
        "their sepal and petal length and widths.\n",
        "There are 50 observation for each species,\n",
        "total -150 , No null values.\n",
        "\n",
        "Agenda:\n",
        "\n",
        "what is classification.?\n",
        "classification vs regression .?\n",
        "what is Regression.?\n",
        "logistic regression in python .?\n",
        "logistic reg vs linear regression.?\n",
        "logistic reg and iris flower classification.?\n",
        "confusion matrix and accuracy."
      ],
      "metadata": {
        "id": "kJGHfx2EHUl2"
      },
      "execution_count": null,
      "outputs": []
    },
    {
      "cell_type": "code",
      "source": [
        "classification-->\n",
        "binary classification--> 2 class --> 0/1 /yes/no True /False.\n",
        "Multinomial classification--> 3 class and more than 3 ex. iris dataset\n",
        "\n",
        "ordinal classification-->  movie dataset , twitter and amazon rating"
      ],
      "metadata": {
        "id": "rnzFPtPoJJkO"
      },
      "execution_count": null,
      "outputs": []
    },
    {
      "cell_type": "markdown",
      "source": [
        "###Multinomial Logistic Regression Problem--> classification"
      ],
      "metadata": {
        "id": "JnLmBqMwNrPo"
      }
    },
    {
      "cell_type": "code",
      "source": [
        "import pandas as pd\n",
        "import matplotlib.pyplot as plt\n",
        "import numpy as np\n",
        "import sklearn\n",
        "from sklearn.linear_model import  LogisticRegression"
      ],
      "metadata": {
        "id": "0JRSQ_kaNoBL"
      },
      "execution_count": null,
      "outputs": []
    },
    {
      "cell_type": "code",
      "source": [
        "from sklearn.datasets import load_iris"
      ],
      "metadata": {
        "id": "53ssZdqIOcIm"
      },
      "execution_count": null,
      "outputs": []
    },
    {
      "cell_type": "code",
      "source": [
        "iris=load_iris()"
      ],
      "metadata": {
        "id": "Fr4D1sNpOkog"
      },
      "execution_count": null,
      "outputs": []
    },
    {
      "cell_type": "code",
      "source": [
        "print(iris)"
      ],
      "metadata": {
        "colab": {
          "base_uri": "https://localhost:8080/"
        },
        "id": "IzMJ3OZiOo81",
        "outputId": "6cad2e96-3426-4c6a-ddd3-067c22c2d313"
      },
      "execution_count": null,
      "outputs": [
        {
          "output_type": "stream",
          "name": "stdout",
          "text": [
            "{'data': array([[5.1, 3.5, 1.4, 0.2],\n",
            "       [4.9, 3. , 1.4, 0.2],\n",
            "       [4.7, 3.2, 1.3, 0.2],\n",
            "       [4.6, 3.1, 1.5, 0.2],\n",
            "       [5. , 3.6, 1.4, 0.2],\n",
            "       [5.4, 3.9, 1.7, 0.4],\n",
            "       [4.6, 3.4, 1.4, 0.3],\n",
            "       [5. , 3.4, 1.5, 0.2],\n",
            "       [4.4, 2.9, 1.4, 0.2],\n",
            "       [4.9, 3.1, 1.5, 0.1],\n",
            "       [5.4, 3.7, 1.5, 0.2],\n",
            "       [4.8, 3.4, 1.6, 0.2],\n",
            "       [4.8, 3. , 1.4, 0.1],\n",
            "       [4.3, 3. , 1.1, 0.1],\n",
            "       [5.8, 4. , 1.2, 0.2],\n",
            "       [5.7, 4.4, 1.5, 0.4],\n",
            "       [5.4, 3.9, 1.3, 0.4],\n",
            "       [5.1, 3.5, 1.4, 0.3],\n",
            "       [5.7, 3.8, 1.7, 0.3],\n",
            "       [5.1, 3.8, 1.5, 0.3],\n",
            "       [5.4, 3.4, 1.7, 0.2],\n",
            "       [5.1, 3.7, 1.5, 0.4],\n",
            "       [4.6, 3.6, 1. , 0.2],\n",
            "       [5.1, 3.3, 1.7, 0.5],\n",
            "       [4.8, 3.4, 1.9, 0.2],\n",
            "       [5. , 3. , 1.6, 0.2],\n",
            "       [5. , 3.4, 1.6, 0.4],\n",
            "       [5.2, 3.5, 1.5, 0.2],\n",
            "       [5.2, 3.4, 1.4, 0.2],\n",
            "       [4.7, 3.2, 1.6, 0.2],\n",
            "       [4.8, 3.1, 1.6, 0.2],\n",
            "       [5.4, 3.4, 1.5, 0.4],\n",
            "       [5.2, 4.1, 1.5, 0.1],\n",
            "       [5.5, 4.2, 1.4, 0.2],\n",
            "       [4.9, 3.1, 1.5, 0.2],\n",
            "       [5. , 3.2, 1.2, 0.2],\n",
            "       [5.5, 3.5, 1.3, 0.2],\n",
            "       [4.9, 3.6, 1.4, 0.1],\n",
            "       [4.4, 3. , 1.3, 0.2],\n",
            "       [5.1, 3.4, 1.5, 0.2],\n",
            "       [5. , 3.5, 1.3, 0.3],\n",
            "       [4.5, 2.3, 1.3, 0.3],\n",
            "       [4.4, 3.2, 1.3, 0.2],\n",
            "       [5. , 3.5, 1.6, 0.6],\n",
            "       [5.1, 3.8, 1.9, 0.4],\n",
            "       [4.8, 3. , 1.4, 0.3],\n",
            "       [5.1, 3.8, 1.6, 0.2],\n",
            "       [4.6, 3.2, 1.4, 0.2],\n",
            "       [5.3, 3.7, 1.5, 0.2],\n",
            "       [5. , 3.3, 1.4, 0.2],\n",
            "       [7. , 3.2, 4.7, 1.4],\n",
            "       [6.4, 3.2, 4.5, 1.5],\n",
            "       [6.9, 3.1, 4.9, 1.5],\n",
            "       [5.5, 2.3, 4. , 1.3],\n",
            "       [6.5, 2.8, 4.6, 1.5],\n",
            "       [5.7, 2.8, 4.5, 1.3],\n",
            "       [6.3, 3.3, 4.7, 1.6],\n",
            "       [4.9, 2.4, 3.3, 1. ],\n",
            "       [6.6, 2.9, 4.6, 1.3],\n",
            "       [5.2, 2.7, 3.9, 1.4],\n",
            "       [5. , 2. , 3.5, 1. ],\n",
            "       [5.9, 3. , 4.2, 1.5],\n",
            "       [6. , 2.2, 4. , 1. ],\n",
            "       [6.1, 2.9, 4.7, 1.4],\n",
            "       [5.6, 2.9, 3.6, 1.3],\n",
            "       [6.7, 3.1, 4.4, 1.4],\n",
            "       [5.6, 3. , 4.5, 1.5],\n",
            "       [5.8, 2.7, 4.1, 1. ],\n",
            "       [6.2, 2.2, 4.5, 1.5],\n",
            "       [5.6, 2.5, 3.9, 1.1],\n",
            "       [5.9, 3.2, 4.8, 1.8],\n",
            "       [6.1, 2.8, 4. , 1.3],\n",
            "       [6.3, 2.5, 4.9, 1.5],\n",
            "       [6.1, 2.8, 4.7, 1.2],\n",
            "       [6.4, 2.9, 4.3, 1.3],\n",
            "       [6.6, 3. , 4.4, 1.4],\n",
            "       [6.8, 2.8, 4.8, 1.4],\n",
            "       [6.7, 3. , 5. , 1.7],\n",
            "       [6. , 2.9, 4.5, 1.5],\n",
            "       [5.7, 2.6, 3.5, 1. ],\n",
            "       [5.5, 2.4, 3.8, 1.1],\n",
            "       [5.5, 2.4, 3.7, 1. ],\n",
            "       [5.8, 2.7, 3.9, 1.2],\n",
            "       [6. , 2.7, 5.1, 1.6],\n",
            "       [5.4, 3. , 4.5, 1.5],\n",
            "       [6. , 3.4, 4.5, 1.6],\n",
            "       [6.7, 3.1, 4.7, 1.5],\n",
            "       [6.3, 2.3, 4.4, 1.3],\n",
            "       [5.6, 3. , 4.1, 1.3],\n",
            "       [5.5, 2.5, 4. , 1.3],\n",
            "       [5.5, 2.6, 4.4, 1.2],\n",
            "       [6.1, 3. , 4.6, 1.4],\n",
            "       [5.8, 2.6, 4. , 1.2],\n",
            "       [5. , 2.3, 3.3, 1. ],\n",
            "       [5.6, 2.7, 4.2, 1.3],\n",
            "       [5.7, 3. , 4.2, 1.2],\n",
            "       [5.7, 2.9, 4.2, 1.3],\n",
            "       [6.2, 2.9, 4.3, 1.3],\n",
            "       [5.1, 2.5, 3. , 1.1],\n",
            "       [5.7, 2.8, 4.1, 1.3],\n",
            "       [6.3, 3.3, 6. , 2.5],\n",
            "       [5.8, 2.7, 5.1, 1.9],\n",
            "       [7.1, 3. , 5.9, 2.1],\n",
            "       [6.3, 2.9, 5.6, 1.8],\n",
            "       [6.5, 3. , 5.8, 2.2],\n",
            "       [7.6, 3. , 6.6, 2.1],\n",
            "       [4.9, 2.5, 4.5, 1.7],\n",
            "       [7.3, 2.9, 6.3, 1.8],\n",
            "       [6.7, 2.5, 5.8, 1.8],\n",
            "       [7.2, 3.6, 6.1, 2.5],\n",
            "       [6.5, 3.2, 5.1, 2. ],\n",
            "       [6.4, 2.7, 5.3, 1.9],\n",
            "       [6.8, 3. , 5.5, 2.1],\n",
            "       [5.7, 2.5, 5. , 2. ],\n",
            "       [5.8, 2.8, 5.1, 2.4],\n",
            "       [6.4, 3.2, 5.3, 2.3],\n",
            "       [6.5, 3. , 5.5, 1.8],\n",
            "       [7.7, 3.8, 6.7, 2.2],\n",
            "       [7.7, 2.6, 6.9, 2.3],\n",
            "       [6. , 2.2, 5. , 1.5],\n",
            "       [6.9, 3.2, 5.7, 2.3],\n",
            "       [5.6, 2.8, 4.9, 2. ],\n",
            "       [7.7, 2.8, 6.7, 2. ],\n",
            "       [6.3, 2.7, 4.9, 1.8],\n",
            "       [6.7, 3.3, 5.7, 2.1],\n",
            "       [7.2, 3.2, 6. , 1.8],\n",
            "       [6.2, 2.8, 4.8, 1.8],\n",
            "       [6.1, 3. , 4.9, 1.8],\n",
            "       [6.4, 2.8, 5.6, 2.1],\n",
            "       [7.2, 3. , 5.8, 1.6],\n",
            "       [7.4, 2.8, 6.1, 1.9],\n",
            "       [7.9, 3.8, 6.4, 2. ],\n",
            "       [6.4, 2.8, 5.6, 2.2],\n",
            "       [6.3, 2.8, 5.1, 1.5],\n",
            "       [6.1, 2.6, 5.6, 1.4],\n",
            "       [7.7, 3. , 6.1, 2.3],\n",
            "       [6.3, 3.4, 5.6, 2.4],\n",
            "       [6.4, 3.1, 5.5, 1.8],\n",
            "       [6. , 3. , 4.8, 1.8],\n",
            "       [6.9, 3.1, 5.4, 2.1],\n",
            "       [6.7, 3.1, 5.6, 2.4],\n",
            "       [6.9, 3.1, 5.1, 2.3],\n",
            "       [5.8, 2.7, 5.1, 1.9],\n",
            "       [6.8, 3.2, 5.9, 2.3],\n",
            "       [6.7, 3.3, 5.7, 2.5],\n",
            "       [6.7, 3. , 5.2, 2.3],\n",
            "       [6.3, 2.5, 5. , 1.9],\n",
            "       [6.5, 3. , 5.2, 2. ],\n",
            "       [6.2, 3.4, 5.4, 2.3],\n",
            "       [5.9, 3. , 5.1, 1.8]]), 'target': array([0, 0, 0, 0, 0, 0, 0, 0, 0, 0, 0, 0, 0, 0, 0, 0, 0, 0, 0, 0, 0, 0,\n",
            "       0, 0, 0, 0, 0, 0, 0, 0, 0, 0, 0, 0, 0, 0, 0, 0, 0, 0, 0, 0, 0, 0,\n",
            "       0, 0, 0, 0, 0, 0, 1, 1, 1, 1, 1, 1, 1, 1, 1, 1, 1, 1, 1, 1, 1, 1,\n",
            "       1, 1, 1, 1, 1, 1, 1, 1, 1, 1, 1, 1, 1, 1, 1, 1, 1, 1, 1, 1, 1, 1,\n",
            "       1, 1, 1, 1, 1, 1, 1, 1, 1, 1, 1, 1, 2, 2, 2, 2, 2, 2, 2, 2, 2, 2,\n",
            "       2, 2, 2, 2, 2, 2, 2, 2, 2, 2, 2, 2, 2, 2, 2, 2, 2, 2, 2, 2, 2, 2,\n",
            "       2, 2, 2, 2, 2, 2, 2, 2, 2, 2, 2, 2, 2, 2, 2, 2, 2, 2]), 'frame': None, 'target_names': array(['setosa', 'versicolor', 'virginica'], dtype='<U10'), 'DESCR': '.. _iris_dataset:\\n\\nIris plants dataset\\n--------------------\\n\\n**Data Set Characteristics:**\\n\\n    :Number of Instances: 150 (50 in each of three classes)\\n    :Number of Attributes: 4 numeric, predictive attributes and the class\\n    :Attribute Information:\\n        - sepal length in cm\\n        - sepal width in cm\\n        - petal length in cm\\n        - petal width in cm\\n        - class:\\n                - Iris-Setosa\\n                - Iris-Versicolour\\n                - Iris-Virginica\\n                \\n    :Summary Statistics:\\n\\n    ============== ==== ==== ======= ===== ====================\\n                    Min  Max   Mean    SD   Class Correlation\\n    ============== ==== ==== ======= ===== ====================\\n    sepal length:   4.3  7.9   5.84   0.83    0.7826\\n    sepal width:    2.0  4.4   3.05   0.43   -0.4194\\n    petal length:   1.0  6.9   3.76   1.76    0.9490  (high!)\\n    petal width:    0.1  2.5   1.20   0.76    0.9565  (high!)\\n    ============== ==== ==== ======= ===== ====================\\n\\n    :Missing Attribute Values: None\\n    :Class Distribution: 33.3% for each of 3 classes.\\n    :Creator: R.A. Fisher\\n    :Donor: Michael Marshall (MARSHALL%PLU@io.arc.nasa.gov)\\n    :Date: July, 1988\\n\\nThe famous Iris database, first used by Sir R.A. Fisher. The dataset is taken\\nfrom Fisher\\'s paper. Note that it\\'s the same as in R, but not as in the UCI\\nMachine Learning Repository, which has two wrong data points.\\n\\nThis is perhaps the best known database to be found in the\\npattern recognition literature.  Fisher\\'s paper is a classic in the field and\\nis referenced frequently to this day.  (See Duda & Hart, for example.)  The\\ndata set contains 3 classes of 50 instances each, where each class refers to a\\ntype of iris plant.  One class is linearly separable from the other 2; the\\nlatter are NOT linearly separable from each other.\\n\\n.. topic:: References\\n\\n   - Fisher, R.A. \"The use of multiple measurements in taxonomic problems\"\\n     Annual Eugenics, 7, Part II, 179-188 (1936); also in \"Contributions to\\n     Mathematical Statistics\" (John Wiley, NY, 1950).\\n   - Duda, R.O., & Hart, P.E. (1973) Pattern Classification and Scene Analysis.\\n     (Q327.D83) John Wiley & Sons.  ISBN 0-471-22361-1.  See page 218.\\n   - Dasarathy, B.V. (1980) \"Nosing Around the Neighborhood: A New System\\n     Structure and Classification Rule for Recognition in Partially Exposed\\n     Environments\".  IEEE Transactions on Pattern Analysis and Machine\\n     Intelligence, Vol. PAMI-2, No. 1, 67-71.\\n   - Gates, G.W. (1972) \"The Reduced Nearest Neighbor Rule\".  IEEE Transactions\\n     on Information Theory, May 1972, 431-433.\\n   - See also: 1988 MLC Proceedings, 54-64.  Cheeseman et al\"s AUTOCLASS II\\n     conceptual clustering system finds 3 classes in the data.\\n   - Many, many more ...', 'feature_names': ['sepal length (cm)', 'sepal width (cm)', 'petal length (cm)', 'petal width (cm)'], 'filename': 'iris.csv', 'data_module': 'sklearn.datasets.data'}\n"
          ]
        }
      ]
    },
    {
      "cell_type": "code",
      "source": [
        "iris.keys()"
      ],
      "metadata": {
        "colab": {
          "base_uri": "https://localhost:8080/"
        },
        "id": "2097NHZEOqDw",
        "outputId": "9f4ad5f2-3307-4e44-e788-561cd2b90e03"
      },
      "execution_count": null,
      "outputs": [
        {
          "output_type": "execute_result",
          "data": {
            "text/plain": [
              "dict_keys(['data', 'target', 'frame', 'target_names', 'DESCR', 'feature_names', 'filename', 'data_module'])"
            ]
          },
          "metadata": {},
          "execution_count": 5
        }
      ]
    },
    {
      "cell_type": "code",
      "source": [
        "print(iris.feature_names)"
      ],
      "metadata": {
        "colab": {
          "base_uri": "https://localhost:8080/"
        },
        "id": "23wF5QcWPDGY",
        "outputId": "bc702f4a-3a10-4f37-a000-5541aa625101"
      },
      "execution_count": null,
      "outputs": [
        {
          "output_type": "stream",
          "name": "stdout",
          "text": [
            "['sepal length (cm)', 'sepal width (cm)', 'petal length (cm)', 'petal width (cm)']\n"
          ]
        }
      ]
    },
    {
      "cell_type": "code",
      "source": [
        "df=pd.DataFrame(iris.data)"
      ],
      "metadata": {
        "id": "w6aN9Pf9PLZW"
      },
      "execution_count": null,
      "outputs": []
    },
    {
      "cell_type": "code",
      "source": [
        "print(df.head())"
      ],
      "metadata": {
        "colab": {
          "base_uri": "https://localhost:8080/"
        },
        "id": "7pQGFMG9PSy5",
        "outputId": "cbc056c1-82f9-4c24-f3b9-8871081c13f7"
      },
      "execution_count": null,
      "outputs": [
        {
          "output_type": "stream",
          "name": "stdout",
          "text": [
            "     0    1    2    3\n",
            "0  5.1  3.5  1.4  0.2\n",
            "1  4.9  3.0  1.4  0.2\n",
            "2  4.7  3.2  1.3  0.2\n",
            "3  4.6  3.1  1.5  0.2\n",
            "4  5.0  3.6  1.4  0.2\n"
          ]
        }
      ]
    },
    {
      "cell_type": "code",
      "source": [
        "df.columns=iris.feature_names"
      ],
      "metadata": {
        "id": "VrbsmTYdPUg3"
      },
      "execution_count": null,
      "outputs": []
    },
    {
      "cell_type": "code",
      "source": [
        "df.head()"
      ],
      "metadata": {
        "colab": {
          "base_uri": "https://localhost:8080/",
          "height": 206
        },
        "id": "FCwB6SwGPcXv",
        "outputId": "e1b825c6-9cf3-4a4c-bad4-d72b826da6f9"
      },
      "execution_count": null,
      "outputs": [
        {
          "output_type": "execute_result",
          "data": {
            "text/plain": [
              "   sepal length (cm)  sepal width (cm)  petal length (cm)  petal width (cm)\n",
              "0                5.1               3.5                1.4               0.2\n",
              "1                4.9               3.0                1.4               0.2\n",
              "2                4.7               3.2                1.3               0.2\n",
              "3                4.6               3.1                1.5               0.2\n",
              "4                5.0               3.6                1.4               0.2"
            ],
            "text/html": [
              "\n",
              "  <div id=\"df-25a9b97f-a331-4d31-b622-92bee7eed213\">\n",
              "    <div class=\"colab-df-container\">\n",
              "      <div>\n",
              "<style scoped>\n",
              "    .dataframe tbody tr th:only-of-type {\n",
              "        vertical-align: middle;\n",
              "    }\n",
              "\n",
              "    .dataframe tbody tr th {\n",
              "        vertical-align: top;\n",
              "    }\n",
              "\n",
              "    .dataframe thead th {\n",
              "        text-align: right;\n",
              "    }\n",
              "</style>\n",
              "<table border=\"1\" class=\"dataframe\">\n",
              "  <thead>\n",
              "    <tr style=\"text-align: right;\">\n",
              "      <th></th>\n",
              "      <th>sepal length (cm)</th>\n",
              "      <th>sepal width (cm)</th>\n",
              "      <th>petal length (cm)</th>\n",
              "      <th>petal width (cm)</th>\n",
              "    </tr>\n",
              "  </thead>\n",
              "  <tbody>\n",
              "    <tr>\n",
              "      <th>0</th>\n",
              "      <td>5.1</td>\n",
              "      <td>3.5</td>\n",
              "      <td>1.4</td>\n",
              "      <td>0.2</td>\n",
              "    </tr>\n",
              "    <tr>\n",
              "      <th>1</th>\n",
              "      <td>4.9</td>\n",
              "      <td>3.0</td>\n",
              "      <td>1.4</td>\n",
              "      <td>0.2</td>\n",
              "    </tr>\n",
              "    <tr>\n",
              "      <th>2</th>\n",
              "      <td>4.7</td>\n",
              "      <td>3.2</td>\n",
              "      <td>1.3</td>\n",
              "      <td>0.2</td>\n",
              "    </tr>\n",
              "    <tr>\n",
              "      <th>3</th>\n",
              "      <td>4.6</td>\n",
              "      <td>3.1</td>\n",
              "      <td>1.5</td>\n",
              "      <td>0.2</td>\n",
              "    </tr>\n",
              "    <tr>\n",
              "      <th>4</th>\n",
              "      <td>5.0</td>\n",
              "      <td>3.6</td>\n",
              "      <td>1.4</td>\n",
              "      <td>0.2</td>\n",
              "    </tr>\n",
              "  </tbody>\n",
              "</table>\n",
              "</div>\n",
              "      <button class=\"colab-df-convert\" onclick=\"convertToInteractive('df-25a9b97f-a331-4d31-b622-92bee7eed213')\"\n",
              "              title=\"Convert this dataframe to an interactive table.\"\n",
              "              style=\"display:none;\">\n",
              "        \n",
              "  <svg xmlns=\"http://www.w3.org/2000/svg\" height=\"24px\"viewBox=\"0 0 24 24\"\n",
              "       width=\"24px\">\n",
              "    <path d=\"M0 0h24v24H0V0z\" fill=\"none\"/>\n",
              "    <path d=\"M18.56 5.44l.94 2.06.94-2.06 2.06-.94-2.06-.94-.94-2.06-.94 2.06-2.06.94zm-11 1L8.5 8.5l.94-2.06 2.06-.94-2.06-.94L8.5 2.5l-.94 2.06-2.06.94zm10 10l.94 2.06.94-2.06 2.06-.94-2.06-.94-.94-2.06-.94 2.06-2.06.94z\"/><path d=\"M17.41 7.96l-1.37-1.37c-.4-.4-.92-.59-1.43-.59-.52 0-1.04.2-1.43.59L10.3 9.45l-7.72 7.72c-.78.78-.78 2.05 0 2.83L4 21.41c.39.39.9.59 1.41.59.51 0 1.02-.2 1.41-.59l7.78-7.78 2.81-2.81c.8-.78.8-2.07 0-2.86zM5.41 20L4 18.59l7.72-7.72 1.47 1.35L5.41 20z\"/>\n",
              "  </svg>\n",
              "      </button>\n",
              "      \n",
              "  <style>\n",
              "    .colab-df-container {\n",
              "      display:flex;\n",
              "      flex-wrap:wrap;\n",
              "      gap: 12px;\n",
              "    }\n",
              "\n",
              "    .colab-df-convert {\n",
              "      background-color: #E8F0FE;\n",
              "      border: none;\n",
              "      border-radius: 50%;\n",
              "      cursor: pointer;\n",
              "      display: none;\n",
              "      fill: #1967D2;\n",
              "      height: 32px;\n",
              "      padding: 0 0 0 0;\n",
              "      width: 32px;\n",
              "    }\n",
              "\n",
              "    .colab-df-convert:hover {\n",
              "      background-color: #E2EBFA;\n",
              "      box-shadow: 0px 1px 2px rgba(60, 64, 67, 0.3), 0px 1px 3px 1px rgba(60, 64, 67, 0.15);\n",
              "      fill: #174EA6;\n",
              "    }\n",
              "\n",
              "    [theme=dark] .colab-df-convert {\n",
              "      background-color: #3B4455;\n",
              "      fill: #D2E3FC;\n",
              "    }\n",
              "\n",
              "    [theme=dark] .colab-df-convert:hover {\n",
              "      background-color: #434B5C;\n",
              "      box-shadow: 0px 1px 3px 1px rgba(0, 0, 0, 0.15);\n",
              "      filter: drop-shadow(0px 1px 2px rgba(0, 0, 0, 0.3));\n",
              "      fill: #FFFFFF;\n",
              "    }\n",
              "  </style>\n",
              "\n",
              "      <script>\n",
              "        const buttonEl =\n",
              "          document.querySelector('#df-25a9b97f-a331-4d31-b622-92bee7eed213 button.colab-df-convert');\n",
              "        buttonEl.style.display =\n",
              "          google.colab.kernel.accessAllowed ? 'block' : 'none';\n",
              "\n",
              "        async function convertToInteractive(key) {\n",
              "          const element = document.querySelector('#df-25a9b97f-a331-4d31-b622-92bee7eed213');\n",
              "          const dataTable =\n",
              "            await google.colab.kernel.invokeFunction('convertToInteractive',\n",
              "                                                     [key], {});\n",
              "          if (!dataTable) return;\n",
              "\n",
              "          const docLinkHtml = 'Like what you see? Visit the ' +\n",
              "            '<a target=\"_blank\" href=https://colab.research.google.com/notebooks/data_table.ipynb>data table notebook</a>'\n",
              "            + ' to learn more about interactive tables.';\n",
              "          element.innerHTML = '';\n",
              "          dataTable['output_type'] = 'display_data';\n",
              "          await google.colab.output.renderOutput(dataTable, element);\n",
              "          const docLink = document.createElement('div');\n",
              "          docLink.innerHTML = docLinkHtml;\n",
              "          element.appendChild(docLink);\n",
              "        }\n",
              "      </script>\n",
              "    </div>\n",
              "  </div>\n",
              "  "
            ]
          },
          "metadata": {},
          "execution_count": 10
        }
      ]
    },
    {
      "cell_type": "code",
      "source": [
        "print(iris.target_names)"
      ],
      "metadata": {
        "colab": {
          "base_uri": "https://localhost:8080/"
        },
        "id": "cRiBkaD4Pdqe",
        "outputId": "826191cd-c29a-481d-c890-349a85ed4ba1"
      },
      "execution_count": null,
      "outputs": [
        {
          "output_type": "stream",
          "name": "stdout",
          "text": [
            "['setosa' 'versicolor' 'virginica']\n"
          ]
        }
      ]
    },
    {
      "cell_type": "code",
      "source": [
        "df.info()"
      ],
      "metadata": {
        "colab": {
          "base_uri": "https://localhost:8080/"
        },
        "id": "lfn-KacNPoIZ",
        "outputId": "9de99f9f-da3b-4bad-bb5c-f30f8af18c5f"
      },
      "execution_count": null,
      "outputs": [
        {
          "output_type": "stream",
          "name": "stdout",
          "text": [
            "<class 'pandas.core.frame.DataFrame'>\n",
            "RangeIndex: 150 entries, 0 to 149\n",
            "Data columns (total 4 columns):\n",
            " #   Column             Non-Null Count  Dtype  \n",
            "---  ------             --------------  -----  \n",
            " 0   sepal length (cm)  150 non-null    float64\n",
            " 1   sepal width (cm)   150 non-null    float64\n",
            " 2   petal length (cm)  150 non-null    float64\n",
            " 3   petal width (cm)   150 non-null    float64\n",
            "dtypes: float64(4)\n",
            "memory usage: 4.8 KB\n"
          ]
        }
      ]
    },
    {
      "cell_type": "code",
      "source": [
        "X=iris.data #independent var.\n",
        "Y=iris.target #dependent var."
      ],
      "metadata": {
        "id": "-gvPxlKwPuPy"
      },
      "execution_count": null,
      "outputs": []
    },
    {
      "cell_type": "code",
      "source": [
        "print(X.shape)"
      ],
      "metadata": {
        "colab": {
          "base_uri": "https://localhost:8080/"
        },
        "id": "r6xVbLrRQBZ5",
        "outputId": "8ca4f7e0-63ba-417d-a955-faccd932add5"
      },
      "execution_count": null,
      "outputs": [
        {
          "output_type": "stream",
          "name": "stdout",
          "text": [
            "(150, 4)\n"
          ]
        }
      ]
    },
    {
      "cell_type": "code",
      "source": [
        "print(Y.shape)"
      ],
      "metadata": {
        "colab": {
          "base_uri": "https://localhost:8080/"
        },
        "id": "QhOPKoDAQGMk",
        "outputId": "351a0397-f7c6-4210-a8a5-7de9bca7e039"
      },
      "execution_count": null,
      "outputs": [
        {
          "output_type": "stream",
          "name": "stdout",
          "text": [
            "(150,)\n"
          ]
        }
      ]
    },
    {
      "cell_type": "code",
      "source": [
        "from sklearn.model_selection import train_test_split\n",
        "x_train,x_test,y_train,y_test=train_test_split(X,Y,test_size=0.25,random_state=5)"
      ],
      "metadata": {
        "id": "3pEJ2F6RQJKc"
      },
      "execution_count": null,
      "outputs": []
    },
    {
      "cell_type": "code",
      "source": [
        "mymodel=LogisticRegression(random_state=2)\n",
        "mymodel.fit(x_train,y_train)"
      ],
      "metadata": {
        "colab": {
          "base_uri": "https://localhost:8080/"
        },
        "id": "oEPvjlpHQf3F",
        "outputId": "4db1ec9e-f413-4bad-a133-ff2356be07b7"
      },
      "execution_count": null,
      "outputs": [
        {
          "output_type": "execute_result",
          "data": {
            "text/plain": [
              "LogisticRegression(random_state=2)"
            ]
          },
          "metadata": {},
          "execution_count": 17
        }
      ]
    },
    {
      "cell_type": "code",
      "source": [
        "print(x_train.shape)"
      ],
      "metadata": {
        "colab": {
          "base_uri": "https://localhost:8080/"
        },
        "id": "shvwLzIy_Qzc",
        "outputId": "192e65b6-59dd-4def-9903-6432c5bbe05e"
      },
      "execution_count": null,
      "outputs": [
        {
          "output_type": "stream",
          "name": "stdout",
          "text": [
            "(112, 4)\n"
          ]
        }
      ]
    },
    {
      "cell_type": "code",
      "source": [
        "print(x_test.shape)"
      ],
      "metadata": {
        "colab": {
          "base_uri": "https://localhost:8080/"
        },
        "id": "Yu5ELcxf_WD6",
        "outputId": "a3259b6f-a571-4c85-eacb-5173831c8987"
      },
      "execution_count": null,
      "outputs": [
        {
          "output_type": "stream",
          "name": "stdout",
          "text": [
            "(38, 4)\n"
          ]
        }
      ]
    },
    {
      "cell_type": "code",
      "source": [
        "print(y_test)"
      ],
      "metadata": {
        "colab": {
          "base_uri": "https://localhost:8080/"
        },
        "id": "OaIpH2BT_4Na",
        "outputId": "14355866-f901-4360-c060-6058cf59464e"
      },
      "execution_count": null,
      "outputs": [
        {
          "output_type": "stream",
          "name": "stdout",
          "text": [
            "[1 2 2 0 2 1 0 1 0 1 1 2 2 2 0 0 2 2 0 0 1 2 0 1 1 2 1 1 1 2 0 1 1 0 1 0 0\n",
            " 2]\n"
          ]
        }
      ]
    },
    {
      "cell_type": "code",
      "source": [
        "print(y_test.shape)"
      ],
      "metadata": {
        "colab": {
          "base_uri": "https://localhost:8080/"
        },
        "id": "71YwcrsS_YmC",
        "outputId": "beae295d-4baf-4001-a48e-cf35deff7530"
      },
      "execution_count": null,
      "outputs": [
        {
          "output_type": "stream",
          "name": "stdout",
          "text": [
            "(38,)\n"
          ]
        }
      ]
    },
    {
      "cell_type": "code",
      "source": [
        "print(y_train.shape)"
      ],
      "metadata": {
        "colab": {
          "base_uri": "https://localhost:8080/"
        },
        "id": "812jBZVs_fNC",
        "outputId": "33c4a2a6-c1e6-4b58-ea08-446960921c8c"
      },
      "execution_count": null,
      "outputs": [
        {
          "output_type": "stream",
          "name": "stdout",
          "text": [
            "(112,)\n"
          ]
        }
      ]
    },
    {
      "cell_type": "code",
      "source": [
        "'''2digit 4digit 6digit------------------------>standard scalar\n",
        "#scaling data\n",
        "from sklearn.preprocessing import StandardScaler\n",
        "sc=StandardScaler()\n",
        "x_train=sc.fit_transform(x_train)\n",
        "x_test=sc.transform(x_test)\n",
        "#normalization--->minmaxscalar()'''"
      ],
      "metadata": {
        "id": "OUVwrHi3Q2-B"
      },
      "execution_count": null,
      "outputs": []
    },
    {
      "cell_type": "code",
      "source": [
        "print(y_test)"
      ],
      "metadata": {
        "colab": {
          "base_uri": "https://localhost:8080/"
        },
        "id": "123Or8lNAJcW",
        "outputId": "72e45563-883b-40e7-e549-de4f1f9cbcb1"
      },
      "execution_count": null,
      "outputs": [
        {
          "output_type": "stream",
          "name": "stdout",
          "text": [
            "[1 2 2 0 2 1 0 1 0 1 1 2 2 2 0 0 2 2 0 0 1 2 0 1 1 2 1 1 1 2 0 1 1 0 1 0 0\n",
            " 2]\n"
          ]
        }
      ]
    },
    {
      "cell_type": "code",
      "source": [
        "y_pred=mymodel.predict(x_test)\n",
        "print(y_pred)"
      ],
      "metadata": {
        "colab": {
          "base_uri": "https://localhost:8080/"
        },
        "id": "qvrkYDySTSfw",
        "outputId": "4b9d71f9-764b-43ed-9476-cb96e988e61b"
      },
      "execution_count": null,
      "outputs": [
        {
          "output_type": "stream",
          "name": "stdout",
          "text": [
            "[1 2 2 0 2 1 0 2 0 1 1 2 2 2 0 0 2 2 0 0 1 2 0 1 1 2 1 1 1 2 0 1 1 0 1 0 0\n",
            " 2]\n"
          ]
        }
      ]
    },
    {
      "cell_type": "code",
      "source": [
        "from sklearn.metrics import accuracy_score\n",
        "print(accuracy_score(y_test,y_pred))"
      ],
      "metadata": {
        "colab": {
          "base_uri": "https://localhost:8080/"
        },
        "id": "0B9wA6z-UTF9",
        "outputId": "dd74f1d2-35f2-4f8c-d343-f2b8bf08a272"
      },
      "execution_count": null,
      "outputs": [
        {
          "output_type": "stream",
          "name": "stdout",
          "text": [
            "0.9736842105263158\n"
          ]
        }
      ]
    },
    {
      "cell_type": "code",
      "source": [
        "#seaborn and matplot lib and EDA ---->"
      ],
      "metadata": {
        "id": "549scXB9UyWK"
      },
      "execution_count": null,
      "outputs": []
    },
    {
      "cell_type": "code",
      "source": [
        "#confusion_matrix-> measures the performance classification-->\n",
        "#accuracy=TP+TN/total=7+10/20=85%\n",
        "#precision=>total number of correctly classified positive class-->(how many result actual positive )=>Tp/Tp+FP=7/9=77%\n",
        "#precision--1(good result)\n",
        "#fscore->mean of precision or recall -->TP/TP+FN---->7/7+1--->\n",
        "#sensitivity--->TP/TP+FP\n"
      ],
      "metadata": {
        "id": "kye2NcnbTrXq"
      },
      "execution_count": null,
      "outputs": []
    },
    {
      "cell_type": "code",
      "source": [
        "from sklearn.metrics import confusion_matrix"
      ],
      "metadata": {
        "id": "L4tvCn7UJjoz"
      },
      "execution_count": null,
      "outputs": []
    },
    {
      "cell_type": "code",
      "source": [
        "cm=confusion_matrix(y_test,y_pred)"
      ],
      "metadata": {
        "id": "uBco7p8hJo55"
      },
      "execution_count": null,
      "outputs": []
    },
    {
      "cell_type": "code",
      "source": [
        "cm"
      ],
      "metadata": {
        "colab": {
          "base_uri": "https://localhost:8080/"
        },
        "id": "W1iGPq9hJ4Dt",
        "outputId": "dbcd14e7-441e-4f43-b79b-3ae0edfc5255"
      },
      "execution_count": null,
      "outputs": [
        {
          "output_type": "execute_result",
          "data": {
            "text/plain": [
              "array([[12,  0,  0],\n",
              "       [ 0, 13,  1],\n",
              "       [ 0,  0, 12]])"
            ]
          },
          "metadata": {},
          "execution_count": 29
        }
      ]
    },
    {
      "cell_type": "code",
      "source": [
        "from sklearn.metrics import accuracy_score\n",
        "print(accuracy_score(y_test,y_pred))"
      ],
      "metadata": {
        "colab": {
          "base_uri": "https://localhost:8080/"
        },
        "id": "EhpiC2u_J4_s",
        "outputId": "9051832f-cedc-4d20-a6b9-5ceb21f7ea16"
      },
      "execution_count": null,
      "outputs": [
        {
          "output_type": "stream",
          "name": "stdout",
          "text": [
            "0.9736842105263158\n"
          ]
        }
      ]
    },
    {
      "cell_type": "code",
      "source": [],
      "metadata": {
        "id": "EYv2V6YVKrh8"
      },
      "execution_count": null,
      "outputs": []
    },
    {
      "cell_type": "markdown",
      "source": [
        "![fscore.png](data:image/png;base64,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)"
      ],
      "metadata": {
        "id": "2c3b_lyTL0WX"
      }
    },
    {
      "cell_type": "code",
      "source": [
        "from sklearn.metrics import classification_report\n",
        "print(classification_report(y_test,y_pred))"
      ],
      "metadata": {
        "colab": {
          "base_uri": "https://localhost:8080/"
        },
        "id": "qUEVSfbsL6aw",
        "outputId": "c4789f23-ecb2-4868-895d-d0d975bd4b00"
      },
      "execution_count": null,
      "outputs": [
        {
          "output_type": "stream",
          "name": "stdout",
          "text": [
            "              precision    recall  f1-score   support\n",
            "\n",
            "           0       1.00      1.00      1.00        12\n",
            "           1       1.00      0.93      0.96        14\n",
            "           2       0.92      1.00      0.96        12\n",
            "\n",
            "    accuracy                           0.97        38\n",
            "   macro avg       0.97      0.98      0.97        38\n",
            "weighted avg       0.98      0.97      0.97        38\n",
            "\n"
          ]
        }
      ]
    },
    {
      "cell_type": "code",
      "source": [
        "https://towardsdatascience.com/a-complete-understanding-of-precision-recall-and-f-score-concepts-23dc44defef6"
      ],
      "metadata": {
        "id": "wK002cG_MNYB"
      },
      "execution_count": null,
      "outputs": []
    }
  ]
}