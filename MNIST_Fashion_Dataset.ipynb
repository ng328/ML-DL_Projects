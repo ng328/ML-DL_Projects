{
  "nbformat": 4,
  "nbformat_minor": 0,
  "metadata": {
    "colab": {
      "provenance": [],
      "include_colab_link": true
    },
    "kernelspec": {
      "name": "python3",
      "display_name": "Python 3"
    },
    "language_info": {
      "name": "python"
    },
    "accelerator": "GPU",
    "gpuClass": "standard"
  },
  "cells": [
    {
      "cell_type": "markdown",
      "metadata": {
        "id": "view-in-github",
        "colab_type": "text"
      },
      "source": [
        "<a href=\"https://colab.research.google.com/github/ng328/ML-DL_Projects/blob/main/MNIST_Fashion_Dataset.ipynb\" target=\"_parent\"><img src=\"https://colab.research.google.com/assets/colab-badge.svg\" alt=\"Open In Colab\"/></a>"
      ]
    },
    {
      "cell_type": "code",
      "execution_count": null,
      "metadata": {
        "id": "-DJPd8VhboSY"
      },
      "outputs": [],
      "source": [
        "import tensorflow as tf\n",
        "import numpy as np\n",
        "from tensorflow import keras"
      ]
    },
    {
      "cell_type": "markdown",
      "source": [
        "#https://keras.io/api/datasets/fashion_mnist/\n",
        "\n",
        "'''Loads the Fashion-MNIST dataset.\n",
        "\n",
        "This is a dataset of 60,000 28x28 grayscale images of 10 fashion categories, along with a test set of 10,000 images. This dataset can be used as a drop-in replacement for MNIST.\n",
        "\n",
        "The classes are:'''\n"
      ],
      "metadata": {
        "id": "TIfW-F-7eOra"
      }
    },
    {
      "cell_type": "code",
      "source": [
        "mnist=tf.keras.datasets.fashion_mnist"
      ],
      "metadata": {
        "id": "2eTBMTrscDrP"
      },
      "execution_count": null,
      "outputs": []
    },
    {
      "cell_type": "code",
      "source": [
        "#print(mnist)"
      ],
      "metadata": {
        "id": "mLTTbNl4etrX"
      },
      "execution_count": null,
      "outputs": []
    },
    {
      "cell_type": "code",
      "source": [
        "(training_images,training_labels),(test_images,test_labels)=mnist.load_data()"
      ],
      "metadata": {
        "colab": {
          "base_uri": "https://localhost:8080/"
        },
        "id": "POYz8VDaewa0",
        "outputId": "f8a67492-4764-4acb-9016-d5044ee361e7"
      },
      "execution_count": null,
      "outputs": [
        {
          "output_type": "stream",
          "name": "stdout",
          "text": [
            "Downloading data from https://storage.googleapis.com/tensorflow/tf-keras-datasets/train-labels-idx1-ubyte.gz\n",
            "29515/29515 [==============================] - 0s 0us/step\n",
            "Downloading data from https://storage.googleapis.com/tensorflow/tf-keras-datasets/train-images-idx3-ubyte.gz\n",
            "26421880/26421880 [==============================] - 1s 0us/step\n",
            "Downloading data from https://storage.googleapis.com/tensorflow/tf-keras-datasets/t10k-labels-idx1-ubyte.gz\n",
            "5148/5148 [==============================] - 0s 0us/step\n",
            "Downloading data from https://storage.googleapis.com/tensorflow/tf-keras-datasets/t10k-images-idx3-ubyte.gz\n",
            "4422102/4422102 [==============================] - 0s 0us/step\n"
          ]
        }
      ]
    },
    {
      "cell_type": "code",
      "source": [
        "print(training_images.shape)"
      ],
      "metadata": {
        "colab": {
          "base_uri": "https://localhost:8080/"
        },
        "id": "6lCXhW2-fcO7",
        "outputId": "9761f80f-d7d8-458f-c85e-6269dc55ee04"
      },
      "execution_count": null,
      "outputs": [
        {
          "output_type": "stream",
          "name": "stdout",
          "text": [
            "(60000, 28, 28)\n"
          ]
        }
      ]
    },
    {
      "cell_type": "code",
      "source": [
        "print(test_images.shape)"
      ],
      "metadata": {
        "colab": {
          "base_uri": "https://localhost:8080/"
        },
        "id": "HG9_DitCfwOI",
        "outputId": "a4ba6bf7-f608-4f5d-b493-6936dc9293b7"
      },
      "execution_count": null,
      "outputs": [
        {
          "output_type": "stream",
          "name": "stdout",
          "text": [
            "(10000, 28, 28)\n"
          ]
        }
      ]
    },
    {
      "cell_type": "code",
      "source": [
        "print(training_labels.shape)"
      ],
      "metadata": {
        "colab": {
          "base_uri": "https://localhost:8080/"
        },
        "id": "1YC1FsQ-f1OV",
        "outputId": "3ce91ecd-0e6d-4369-9da7-63a7914b4b63"
      },
      "execution_count": null,
      "outputs": [
        {
          "output_type": "stream",
          "name": "stdout",
          "text": [
            "(60000,)\n"
          ]
        }
      ]
    },
    {
      "cell_type": "code",
      "source": [
        "print(test_labels.shape)"
      ],
      "metadata": {
        "colab": {
          "base_uri": "https://localhost:8080/"
        },
        "id": "99CONy9rf7AP",
        "outputId": "dc838d56-e49c-4f6e-a212-67cfa4d55904"
      },
      "execution_count": null,
      "outputs": [
        {
          "output_type": "stream",
          "name": "stdout",
          "text": [
            "(10000,)\n"
          ]
        }
      ]
    },
    {
      "cell_type": "code",
      "source": [
        "#multiclass classification-->\n",
        "import matplotlib.pyplot as plt\n",
        "np.set_printoptions(linewidth=300)\n",
        "plt.imshow(training_images[0])\n",
        "training_labels[0]\n",
        "training_images[0]\n"
      ],
      "metadata": {
        "colab": {
          "base_uri": "https://localhost:8080/",
          "height": 751
        },
        "id": "VGAd4il2f_jY",
        "outputId": "079e3fdf-fbe8-4b61-bf4e-f4b8b830ed19"
      },
      "execution_count": null,
      "outputs": [
        {
          "output_type": "execute_result",
          "data": {
            "text/plain": [
              "array([[  0,   0,   0,   0,   0,   0,   0,   0,   0,   0,   0,   0,   0,   0,   0,   0,   0,   0,   0,   0,   0,   0,   0,   0,   0,   0,   0,   0],\n",
              "       [  0,   0,   0,   0,   0,   0,   0,   0,   0,   0,   0,   0,   0,   0,   0,   0,   0,   0,   0,   0,   0,   0,   0,   0,   0,   0,   0,   0],\n",
              "       [  0,   0,   0,   0,   0,   0,   0,   0,   0,   0,   0,   0,   0,   0,   0,   0,   0,   0,   0,   0,   0,   0,   0,   0,   0,   0,   0,   0],\n",
              "       [  0,   0,   0,   0,   0,   0,   0,   0,   0,   0,   0,   0,   1,   0,   0,  13,  73,   0,   0,   1,   4,   0,   0,   0,   0,   1,   1,   0],\n",
              "       [  0,   0,   0,   0,   0,   0,   0,   0,   0,   0,   0,   0,   3,   0,  36, 136, 127,  62,  54,   0,   0,   0,   1,   3,   4,   0,   0,   3],\n",
              "       [  0,   0,   0,   0,   0,   0,   0,   0,   0,   0,   0,   0,   6,   0, 102, 204, 176, 134, 144, 123,  23,   0,   0,   0,   0,  12,  10,   0],\n",
              "       [  0,   0,   0,   0,   0,   0,   0,   0,   0,   0,   0,   0,   0,   0, 155, 236, 207, 178, 107, 156, 161, 109,  64,  23,  77, 130,  72,  15],\n",
              "       [  0,   0,   0,   0,   0,   0,   0,   0,   0,   0,   0,   1,   0,  69, 207, 223, 218, 216, 216, 163, 127, 121, 122, 146, 141,  88, 172,  66],\n",
              "       [  0,   0,   0,   0,   0,   0,   0,   0,   0,   1,   1,   1,   0, 200, 232, 232, 233, 229, 223, 223, 215, 213, 164, 127, 123, 196, 229,   0],\n",
              "       [  0,   0,   0,   0,   0,   0,   0,   0,   0,   0,   0,   0,   0, 183, 225, 216, 223, 228, 235, 227, 224, 222, 224, 221, 223, 245, 173,   0],\n",
              "       [  0,   0,   0,   0,   0,   0,   0,   0,   0,   0,   0,   0,   0, 193, 228, 218, 213, 198, 180, 212, 210, 211, 213, 223, 220, 243, 202,   0],\n",
              "       [  0,   0,   0,   0,   0,   0,   0,   0,   0,   1,   3,   0,  12, 219, 220, 212, 218, 192, 169, 227, 208, 218, 224, 212, 226, 197, 209,  52],\n",
              "       [  0,   0,   0,   0,   0,   0,   0,   0,   0,   0,   6,   0,  99, 244, 222, 220, 218, 203, 198, 221, 215, 213, 222, 220, 245, 119, 167,  56],\n",
              "       [  0,   0,   0,   0,   0,   0,   0,   0,   0,   4,   0,   0,  55, 236, 228, 230, 228, 240, 232, 213, 218, 223, 234, 217, 217, 209,  92,   0],\n",
              "       [  0,   0,   1,   4,   6,   7,   2,   0,   0,   0,   0,   0, 237, 226, 217, 223, 222, 219, 222, 221, 216, 223, 229, 215, 218, 255,  77,   0],\n",
              "       [  0,   3,   0,   0,   0,   0,   0,   0,   0,  62, 145, 204, 228, 207, 213, 221, 218, 208, 211, 218, 224, 223, 219, 215, 224, 244, 159,   0],\n",
              "       [  0,   0,   0,   0,  18,  44,  82, 107, 189, 228, 220, 222, 217, 226, 200, 205, 211, 230, 224, 234, 176, 188, 250, 248, 233, 238, 215,   0],\n",
              "       [  0,  57, 187, 208, 224, 221, 224, 208, 204, 214, 208, 209, 200, 159, 245, 193, 206, 223, 255, 255, 221, 234, 221, 211, 220, 232, 246,   0],\n",
              "       [  3, 202, 228, 224, 221, 211, 211, 214, 205, 205, 205, 220, 240,  80, 150, 255, 229, 221, 188, 154, 191, 210, 204, 209, 222, 228, 225,   0],\n",
              "       [ 98, 233, 198, 210, 222, 229, 229, 234, 249, 220, 194, 215, 217, 241,  65,  73, 106, 117, 168, 219, 221, 215, 217, 223, 223, 224, 229,  29],\n",
              "       [ 75, 204, 212, 204, 193, 205, 211, 225, 216, 185, 197, 206, 198, 213, 240, 195, 227, 245, 239, 223, 218, 212, 209, 222, 220, 221, 230,  67],\n",
              "       [ 48, 203, 183, 194, 213, 197, 185, 190, 194, 192, 202, 214, 219, 221, 220, 236, 225, 216, 199, 206, 186, 181, 177, 172, 181, 205, 206, 115],\n",
              "       [  0, 122, 219, 193, 179, 171, 183, 196, 204, 210, 213, 207, 211, 210, 200, 196, 194, 191, 195, 191, 198, 192, 176, 156, 167, 177, 210,  92],\n",
              "       [  0,   0,  74, 189, 212, 191, 175, 172, 175, 181, 185, 188, 189, 188, 193, 198, 204, 209, 210, 210, 211, 188, 188, 194, 192, 216, 170,   0],\n",
              "       [  2,   0,   0,   0,  66, 200, 222, 237, 239, 242, 246, 243, 244, 221, 220, 193, 191, 179, 182, 182, 181, 176, 166, 168,  99,  58,   0,   0],\n",
              "       [  0,   0,   0,   0,   0,   0,   0,  40,  61,  44,  72,  41,  35,   0,   0,   0,   0,   0,   0,   0,   0,   0,   0,   0,   0,   0,   0,   0],\n",
              "       [  0,   0,   0,   0,   0,   0,   0,   0,   0,   0,   0,   0,   0,   0,   0,   0,   0,   0,   0,   0,   0,   0,   0,   0,   0,   0,   0,   0],\n",
              "       [  0,   0,   0,   0,   0,   0,   0,   0,   0,   0,   0,   0,   0,   0,   0,   0,   0,   0,   0,   0,   0,   0,   0,   0,   0,   0,   0,   0]], dtype=uint8)"
            ]
          },
          "metadata": {},
          "execution_count": 10
        },
        {
          "output_type": "display_data",
          "data": {
            "text/plain": [
              "<Figure size 432x288 with 1 Axes>"
            ],
            "image/png": "[encoded data removed]"
          },
          "metadata": {
            "needs_background": "light"
          }
        }
      ]
    },
    {
      "cell_type": "code",
      "source": [
        "#Normalization\n",
        "training_images=training_images/255\n",
        "test_images=test_images/255"
      ],
      "metadata": {
        "id": "4oGgrHR5hUZg"
      },
      "execution_count": null,
      "outputs": []
    },
    {
      "cell_type": "code",
      "source": [
        "#architecuture"
      ],
      "metadata": {
        "id": "rdwGyAfpjIub"
      },
      "execution_count": null,
      "outputs": []
    },
    {
      "cell_type": "code",
      "source": [
        "model=tf.keras.Sequential([tf.keras.layers.Flatten(),\n",
        "                           tf.keras.layers.Dense(128,activation=tf.nn.relu),\n",
        "                           tf.keras.layers.Dense(10,activation=tf.nn.softmax)])"
      ],
      "metadata": {
        "id": "JNyOqSMgjA4l"
      },
      "execution_count": null,
      "outputs": []
    },
    {
      "cell_type": "code",
      "source": [
        "#compile\n",
        "model.compile(optimizer=tf.optimizers.Adam(),loss='sparse_categorical_crossentropy',metrics=['accuracy'])"
      ],
      "metadata": {
        "id": "CVGpE6J2kamJ"
      },
      "execution_count": null,
      "outputs": []
    },
    {
      "cell_type": "code",
      "source": [
        "60000/32"
      ],
      "metadata": {
        "colab": {
          "base_uri": "https://localhost:8080/"
        },
        "id": "t4zfouhkmIAs",
        "outputId": "fb7d47ea-d898-4a59-f43e-4d7dd4009473"
      },
      "execution_count": null,
      "outputs": [
        {
          "output_type": "execute_result",
          "data": {
            "text/plain": [
              "1875.0"
            ]
          },
          "metadata": {},
          "execution_count": 14
        }
      ]
    },
    {
      "cell_type": "code",
      "source": [
        "model.fit(training_images,training_labels,epochs=50)"
      ],
      "metadata": {
        "colab": {
          "base_uri": "https://localhost:8080/"
        },
        "id": "q8GnHCPPmw0L",
        "outputId": "62d57748-9fe9-4317-dbf3-6f46e80726f4"
      },
      "execution_count": null,
      "outputs": [
        {
          "output_type": "stream",
          "name": "stdout",
          "text": [
            "Epoch 1/50\n",
            "1875/1875 [==============================] - 5s 3ms/step - loss: 0.0462 - accuracy: 0.9826\n",
            "Epoch 2/50\n",
            "1875/1875 [==============================] - 4s 2ms/step - loss: 0.0482 - accuracy: 0.9820\n",
            "Epoch 3/50\n",
            "1875/1875 [==============================] - 4s 2ms/step - loss: 0.0491 - accuracy: 0.9823\n",
            "Epoch 4/50\n",
            "1875/1875 [==============================] - 4s 2ms/step - loss: 0.0488 - accuracy: 0.9823\n",
            "Epoch 5/50\n",
            "1875/1875 [==============================] - 4s 2ms/step - loss: 0.0463 - accuracy: 0.9829\n",
            "Epoch 6/50\n",
            "1875/1875 [==============================] - 4s 2ms/step - loss: 0.0437 - accuracy: 0.9839\n",
            "Epoch 7/50\n",
            "1875/1875 [==============================] - 4s 2ms/step - loss: 0.0466 - accuracy: 0.9829\n",
            "Epoch 8/50\n",
            "1875/1875 [==============================] - 4s 2ms/step - loss: 0.0440 - accuracy: 0.9838\n",
            "Epoch 9/50\n",
            "1875/1875 [==============================] - 4s 2ms/step - loss: 0.0459 - accuracy: 0.9835\n",
            "Epoch 10/50\n",
            "1875/1875 [==============================] - 4s 2ms/step - loss: 0.0489 - accuracy: 0.9815\n",
            "Epoch 11/50\n",
            "1875/1875 [==============================] - 4s 2ms/step - loss: 0.0434 - accuracy: 0.9841\n",
            "Epoch 12/50\n",
            "1875/1875 [==============================] - 4s 2ms/step - loss: 0.0408 - accuracy: 0.9849\n",
            "Epoch 13/50\n",
            "1875/1875 [==============================] - 4s 2ms/step - loss: 0.0473 - accuracy: 0.9829\n",
            "Epoch 14/50\n",
            "1875/1875 [==============================] - 4s 2ms/step - loss: 0.0395 - accuracy: 0.9855\n",
            "Epoch 15/50\n",
            "1875/1875 [==============================] - 4s 2ms/step - loss: 0.0468 - accuracy: 0.9828\n",
            "Epoch 16/50\n",
            "1875/1875 [==============================] - 4s 2ms/step - loss: 0.0416 - accuracy: 0.9854\n",
            "Epoch 17/50\n",
            "1875/1875 [==============================] - 4s 2ms/step - loss: 0.0428 - accuracy: 0.9842\n",
            "Epoch 18/50\n",
            "1875/1875 [==============================] - 4s 2ms/step - loss: 0.0422 - accuracy: 0.9843\n",
            "Epoch 19/50\n",
            "1875/1875 [==============================] - 4s 2ms/step - loss: 0.0426 - accuracy: 0.9845\n",
            "Epoch 20/50\n",
            "1875/1875 [==============================] - 4s 2ms/step - loss: 0.0401 - accuracy: 0.9852\n",
            "Epoch 21/50\n",
            "1875/1875 [==============================] - 4s 2ms/step - loss: 0.0455 - accuracy: 0.9837\n",
            "Epoch 22/50\n",
            "1875/1875 [==============================] - 4s 2ms/step - loss: 0.0384 - accuracy: 0.9861\n",
            "Epoch 23/50\n",
            "1875/1875 [==============================] - 4s 2ms/step - loss: 0.0416 - accuracy: 0.9850\n",
            "Epoch 24/50\n",
            "1875/1875 [==============================] - 4s 2ms/step - loss: 0.0411 - accuracy: 0.9847\n",
            "Epoch 25/50\n",
            "1875/1875 [==============================] - 4s 2ms/step - loss: 0.0398 - accuracy: 0.9856\n",
            "Epoch 26/50\n",
            "1875/1875 [==============================] - 4s 2ms/step - loss: 0.0365 - accuracy: 0.9865\n",
            "Epoch 27/50\n",
            "1875/1875 [==============================] - 5s 2ms/step - loss: 0.0397 - accuracy: 0.9858\n",
            "Epoch 28/50\n",
            "1875/1875 [==============================] - 5s 2ms/step - loss: 0.0373 - accuracy: 0.9860\n",
            "Epoch 29/50\n",
            "1875/1875 [==============================] - 4s 2ms/step - loss: 0.0390 - accuracy: 0.9858\n",
            "Epoch 30/50\n",
            "1875/1875 [==============================] - 4s 2ms/step - loss: 0.0386 - accuracy: 0.9863\n",
            "Epoch 31/50\n",
            "1875/1875 [==============================] - 4s 2ms/step - loss: 0.0385 - accuracy: 0.9857\n",
            "Epoch 32/50\n",
            "1875/1875 [==============================] - 4s 2ms/step - loss: 0.0375 - accuracy: 0.9862\n",
            "Epoch 33/50\n",
            "1875/1875 [==============================] - 4s 2ms/step - loss: 0.0369 - accuracy: 0.9865\n",
            "Epoch 34/50\n",
            "1875/1875 [==============================] - 4s 2ms/step - loss: 0.0367 - accuracy: 0.9865\n",
            "Epoch 35/50\n",
            "1875/1875 [==============================] - 4s 2ms/step - loss: 0.0369 - accuracy: 0.9870\n",
            "Epoch 36/50\n",
            "1875/1875 [==============================] - 4s 2ms/step - loss: 0.0373 - accuracy: 0.9866\n",
            "Epoch 37/50\n",
            "1875/1875 [==============================] - 4s 2ms/step - loss: 0.0369 - accuracy: 0.9867\n",
            "Epoch 38/50\n",
            "1875/1875 [==============================] - 6s 3ms/step - loss: 0.0354 - accuracy: 0.9870\n",
            "Epoch 39/50\n",
            "1875/1875 [==============================] - 5s 2ms/step - loss: 0.0333 - accuracy: 0.9879\n",
            "Epoch 40/50\n",
            "1875/1875 [==============================] - 4s 2ms/step - loss: 0.0384 - accuracy: 0.9857\n",
            "Epoch 41/50\n",
            "1875/1875 [==============================] - 4s 2ms/step - loss: 0.0340 - accuracy: 0.9875\n",
            "Epoch 42/50\n",
            "1875/1875 [==============================] - 4s 2ms/step - loss: 0.0372 - accuracy: 0.9866\n",
            "Epoch 43/50\n",
            "1875/1875 [==============================] - 4s 2ms/step - loss: 0.0337 - accuracy: 0.9879\n",
            "Epoch 44/50\n",
            "1875/1875 [==============================] - 4s 2ms/step - loss: 0.0367 - accuracy: 0.9869\n",
            "Epoch 45/50\n",
            "1875/1875 [==============================] - 4s 2ms/step - loss: 0.0323 - accuracy: 0.9881\n",
            "Epoch 46/50\n",
            "1875/1875 [==============================] - 4s 2ms/step - loss: 0.0332 - accuracy: 0.9878\n",
            "Epoch 47/50\n",
            "1875/1875 [==============================] - 4s 2ms/step - loss: 0.0355 - accuracy: 0.9873\n",
            "Epoch 48/50\n",
            "1875/1875 [==============================] - 4s 2ms/step - loss: 0.0309 - accuracy: 0.9885\n",
            "Epoch 49/50\n",
            "1875/1875 [==============================] - 4s 2ms/step - loss: 0.0343 - accuracy: 0.9875\n",
            "Epoch 50/50\n",
            "1875/1875 [==============================] - 5s 2ms/step - loss: 0.0319 - accuracy: 0.9882\n"
          ]
        },
        {
          "output_type": "execute_result",
          "data": {
            "text/plain": [
              "<keras.callbacks.History at 0x7fb3b96f5cd0>"
            ]
          },
          "metadata": {},
          "execution_count": 19
        }
      ]
    },
    {
      "cell_type": "code",
      "source": [
        "model.evaluate(test_images,test_labels)"
      ],
      "metadata": {
        "colab": {
          "base_uri": "https://localhost:8080/"
        },
        "id": "0k4kYI6xnesI",
        "outputId": "f989e2cc-382e-4580-ed2e-bf7275480b3d"
      },
      "execution_count": null,
      "outputs": [
        {
          "output_type": "stream",
          "name": "stdout",
          "text": [
            "313/313 [==============================] - 1s 3ms/step - loss: 0.3436 - accuracy: 0.8825\n"
          ]
        },
        {
          "output_type": "execute_result",
          "data": {
            "text/plain": [
              "[0.3435904085636139, 0.8824999928474426]"
            ]
          },
          "metadata": {},
          "execution_count": 26
        }
      ]
    },
    {
      "cell_type": "code",
      "source": [
        "1875/60000"
      ],
      "metadata": {
        "colab": {
          "base_uri": "https://localhost:8080/"
        },
        "id": "0mCzM_jinjy9",
        "outputId": "436f1637-12f5-4397-ebf9-b5f5976397eb"
      },
      "execution_count": null,
      "outputs": [
        {
          "output_type": "execute_result",
          "data": {
            "text/plain": [
              "0.03125"
            ]
          },
          "metadata": {},
          "execution_count": 27
        }
      ]
    },
    {
      "cell_type": "code",
      "source": [
        "#callbacks\n",
        "class myCallback(tf.keras.callbacks.Callback):\n",
        "  def on_epoch_end(self,epoch,logs={}):\n",
        "    if(logs.get('accuracy')>0.9):\n",
        "      print(\"\\n Reached Desired accuracy(90%) so cancelling training\")\n",
        "      self.model.stop_training=True\n",
        "\n",
        "Callbacks=myCallback()\n",
        "model=tf.keras.models.Sequential([tf.keras.layers.Flatten(),\n",
        "                                  tf.keras.layers.Dense(512,activation=tf.nn.relu),\n",
        "                                  tf.keras.layers.Dense(10,activation=tf.nn.softmax)])\n",
        "\n"
      ],
      "metadata": {
        "id": "GKxD4NeGntl2"
      },
      "execution_count": null,
      "outputs": []
    },
    {
      "cell_type": "code",
      "source": [
        "model.compile(optimizer='adam',loss='sparse_categorical_crossentropy',metrics=['accuracy'])"
      ],
      "metadata": {
        "id": "buuTMUoCG1r3"
      },
      "execution_count": null,
      "outputs": []
    },
    {
      "cell_type": "code",
      "source": [
        "model.fit(training_images,training_labels,epochs=100,callbacks=[Callbacks])"
      ],
      "metadata": {
        "colab": {
          "base_uri": "https://localhost:8080/"
        },
        "id": "1Vx0J0aZHLYp",
        "outputId": "c6ba5108-c125-40cc-ae39-6acdbaf3a0f5"
      },
      "execution_count": null,
      "outputs": [
        {
          "output_type": "stream",
          "name": "stdout",
          "text": [
            "Epoch 1/100\n",
            "1875/1875 [==============================] - 11s 6ms/step - loss: 0.8706 - accuracy: 0.7175\n",
            "Epoch 2/100\n",
            "1875/1875 [==============================] - 11s 6ms/step - loss: 0.5478 - accuracy: 0.8038\n",
            "Epoch 3/100\n",
            "1875/1875 [==============================] - 11s 6ms/step - loss: 0.4888 - accuracy: 0.8267\n",
            "Epoch 4/100\n",
            "1875/1875 [==============================] - 11s 6ms/step - loss: 0.4571 - accuracy: 0.8379\n",
            "Epoch 5/100\n",
            "1875/1875 [==============================] - 12s 6ms/step - loss: 0.4361 - accuracy: 0.8455\n",
            "Epoch 6/100\n",
            "1875/1875 [==============================] - 11s 6ms/step - loss: 0.4205 - accuracy: 0.8508\n",
            "Epoch 7/100\n",
            "1875/1875 [==============================] - 11s 6ms/step - loss: 0.4074 - accuracy: 0.8562\n",
            "Epoch 8/100\n",
            "1875/1875 [==============================] - 11s 6ms/step - loss: 0.3975 - accuracy: 0.8592\n",
            "Epoch 9/100\n",
            "1875/1875 [==============================] - 11s 6ms/step - loss: 0.3878 - accuracy: 0.8617\n",
            "Epoch 10/100\n",
            "1875/1875 [==============================] - 11s 6ms/step - loss: 0.3798 - accuracy: 0.8651\n",
            "Epoch 11/100\n",
            "1875/1875 [==============================] - 11s 6ms/step - loss: 0.3728 - accuracy: 0.8674\n",
            "Epoch 12/100\n",
            "1875/1875 [==============================] - 11s 6ms/step - loss: 0.3657 - accuracy: 0.8701\n",
            "Epoch 13/100\n",
            "1875/1875 [==============================] - 11s 6ms/step - loss: 0.3595 - accuracy: 0.8712\n",
            "Epoch 14/100\n",
            "1875/1875 [==============================] - 12s 6ms/step - loss: 0.3530 - accuracy: 0.8734\n",
            "Epoch 15/100\n",
            "1875/1875 [==============================] - 12s 6ms/step - loss: 0.3479 - accuracy: 0.8762\n",
            "Epoch 16/100\n",
            "1875/1875 [==============================] - 12s 6ms/step - loss: 0.3421 - accuracy: 0.8773\n",
            "Epoch 17/100\n",
            "1875/1875 [==============================] - 11s 6ms/step - loss: 0.3368 - accuracy: 0.8796\n",
            "Epoch 18/100\n",
            "1875/1875 [==============================] - 12s 7ms/step - loss: 0.3324 - accuracy: 0.8809\n",
            "Epoch 19/100\n",
            "1875/1875 [==============================] - 12s 7ms/step - loss: 0.3287 - accuracy: 0.8815\n",
            "Epoch 20/100\n",
            "1875/1875 [==============================] - 13s 7ms/step - loss: 0.3236 - accuracy: 0.8842\n",
            "Epoch 21/100\n",
            "1875/1875 [==============================] - 12s 6ms/step - loss: 0.3197 - accuracy: 0.8848\n",
            "Epoch 22/100\n",
            "1875/1875 [==============================] - 12s 6ms/step - loss: 0.3147 - accuracy: 0.8863\n",
            "Epoch 23/100\n",
            "1875/1875 [==============================] - 12s 7ms/step - loss: 0.3116 - accuracy: 0.8872\n",
            "Epoch 24/100\n",
            "1875/1875 [==============================] - 12s 6ms/step - loss: 0.3078 - accuracy: 0.8897\n",
            "Epoch 25/100\n",
            "1875/1875 [==============================] - 12s 6ms/step - loss: 0.3035 - accuracy: 0.8898\n",
            "Epoch 26/100\n",
            "1875/1875 [==============================] - 12s 7ms/step - loss: 0.2993 - accuracy: 0.8924\n",
            "Epoch 27/100\n",
            "1875/1875 [==============================] - 12s 7ms/step - loss: 0.2972 - accuracy: 0.8924\n",
            "Epoch 28/100\n",
            "1875/1875 [==============================] - 13s 7ms/step - loss: 0.2922 - accuracy: 0.8946\n",
            "Epoch 29/100\n",
            "1875/1875 [==============================] - 13s 7ms/step - loss: 0.2899 - accuracy: 0.8941\n",
            "Epoch 30/100\n",
            "1875/1875 [==============================] - 12s 6ms/step - loss: 0.2862 - accuracy: 0.8964\n",
            "Epoch 31/100\n",
            "1875/1875 [==============================] - 12s 7ms/step - loss: 0.2831 - accuracy: 0.8979\n",
            "Epoch 32/100\n",
            "1875/1875 [==============================] - 12s 6ms/step - loss: 0.2804 - accuracy: 0.8982\n",
            "Epoch 33/100\n",
            "1870/1875 [============================>.] - ETA: 0s - loss: 0.2769 - accuracy: 0.9004\n",
            " Reached Desired accuracy(90%) so cancelling training\n",
            "1875/1875 [==============================] - 12s 7ms/step - loss: 0.2768 - accuracy: 0.9004\n"
          ]
        },
        {
          "output_type": "execute_result",
          "data": {
            "text/plain": [
              "<keras.callbacks.History at 0x7fcdc8362970>"
            ]
          },
          "metadata": {},
          "execution_count": 18
        }
      ]
    },
    {
      "cell_type": "code",
      "source": [],
      "metadata": {
        "id": "qmct-RK3Hi7V"
      },
      "execution_count": null,
      "outputs": []
    }
  ]
}