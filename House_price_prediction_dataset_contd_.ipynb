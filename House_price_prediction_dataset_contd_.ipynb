{
  "nbformat": 4,
  "nbformat_minor": 0,
  "metadata": {
    "colab": {
      "provenance": [],
      "include_colab_link": true
    },
    "kernelspec": {
      "name": "python3",
      "display_name": "Python 3"
    },
    "language_info": {
      "name": "python"
    }
  },
  "cells": [
    {
      "cell_type": "markdown",
      "metadata": {
        "id": "view-in-github",
        "colab_type": "text"
      },
      "source": [
        "<a href=\"https://colab.research.google.com/github/ng328/ML-DL_Projects/blob/main/House_price_prediction_dataset_contd_.ipynb\" target=\"_parent\"><img src=\"https://colab.research.google.com/assets/colab-badge.svg\" alt=\"Open In Colab\"/></a>"
      ]
    },
    {
      "cell_type": "code",
      "execution_count": null,
      "metadata": {
        "id": "rKj0NUN6Udr8"
      },
      "outputs": [],
      "source": [
        "#house price prediction-->\n",
        "UCL machine learning repository\n",
        "regression -->simple linear regression\n",
        "              y=mx+c\n",
        "              one features and one label-->\n",
        "              supervised problem\n",
        "multiple varaibles-->\n",
        "\n",
        "y=mx+c\n",
        "y=m1x1+m2x2+m3x3+.....+mnxn+ b\n",
        "\n",
        "where m1,m2,m3-->slope/coefficient\n",
        "      b--->intercept /constant\n",
        "      x={x1,x2,x3....xn}-->features ---------------->independent variable\n",
        "      y-->numerical values   ----->dependent variable\n",
        "\n",
        "      14 columns and 506 rows\n",
        "      https://scikit-learn.org/stable/modules/generated/sklearn.datasets.load_boston.html"
      ]
    },
    {
      "cell_type": "code",
      "source": [
        "import pandas as pd\n",
        "import matplotlib.pyplot as plt\n",
        "import numpy as np\n"
      ],
      "metadata": {
        "id": "cNHxHghxdqHR"
      },
      "execution_count": null,
      "outputs": []
    },
    {
      "cell_type": "code",
      "source": [
        "import sklearn\n",
        "from sklearn.linear_model import LinearRegression"
      ],
      "metadata": {
        "id": "H2lkth7n1ptx"
      },
      "execution_count": null,
      "outputs": []
    },
    {
      "cell_type": "code",
      "source": [
        "from sklearn.datasets import load_boston"
      ],
      "metadata": {
        "id": "bMdoWe981yKm"
      },
      "execution_count": null,
      "outputs": []
    },
    {
      "cell_type": "code",
      "source": [
        "from sklearn.metrics import mean_squared_error,r2_score"
      ],
      "metadata": {
        "id": "pDUx-fDt2bBL"
      },
      "execution_count": null,
      "outputs": []
    },
    {
      "cell_type": "code",
      "source": [
        "boston=load_boston()\n",
        "print(boston)"
      ],
      "metadata": {
        "colab": {
          "base_uri": "https://localhost:8080/"
        },
        "id": "HyLW57Ft20_W",
        "outputId": "7470bbd8-e962-4768-cb9d-83b24774ec14"
      },
      "execution_count": null,
      "outputs": [
        {
          "output_type": "stream",
          "name": "stdout",
          "text": [
            "{'data': array([[6.3200e-03, 1.8000e+01, 2.3100e+00, ..., 1.5300e+01, 3.9690e+02,\n",
            "        4.9800e+00],\n",
            "       [2.7310e-02, 0.0000e+00, 7.0700e+00, ..., 1.7800e+01, 3.9690e+02,\n",
            "        9.1400e+00],\n",
            "       [2.7290e-02, 0.0000e+00, 7.0700e+00, ..., 1.7800e+01, 3.9283e+02,\n",
            "        4.0300e+00],\n",
            "       ...,\n",
            "       [6.0760e-02, 0.0000e+00, 1.1930e+01, ..., 2.1000e+01, 3.9690e+02,\n",
            "        5.6400e+00],\n",
            "       [1.0959e-01, 0.0000e+00, 1.1930e+01, ..., 2.1000e+01, 3.9345e+02,\n",
            "        6.4800e+00],\n",
            "       [4.7410e-02, 0.0000e+00, 1.1930e+01, ..., 2.1000e+01, 3.9690e+02,\n",
            "        7.8800e+00]]), 'target': array([24. , 21.6, 34.7, 33.4, 36.2, 28.7, 22.9, 27.1, 16.5, 18.9, 15. ,\n",
            "       18.9, 21.7, 20.4, 18.2, 19.9, 23.1, 17.5, 20.2, 18.2, 13.6, 19.6,\n",
            "       15.2, 14.5, 15.6, 13.9, 16.6, 14.8, 18.4, 21. , 12.7, 14.5, 13.2,\n",
            "       13.1, 13.5, 18.9, 20. , 21. , 24.7, 30.8, 34.9, 26.6, 25.3, 24.7,\n",
            "       21.2, 19.3, 20. , 16.6, 14.4, 19.4, 19.7, 20.5, 25. , 23.4, 18.9,\n",
            "       35.4, 24.7, 31.6, 23.3, 19.6, 18.7, 16. , 22.2, 25. , 33. , 23.5,\n",
            "       19.4, 22. , 17.4, 20.9, 24.2, 21.7, 22.8, 23.4, 24.1, 21.4, 20. ,\n",
            "       20.8, 21.2, 20.3, 28. , 23.9, 24.8, 22.9, 23.9, 26.6, 22.5, 22.2,\n",
            "       23.6, 28.7, 22.6, 22. , 22.9, 25. , 20.6, 28.4, 21.4, 38.7, 43.8,\n",
            "       33.2, 27.5, 26.5, 18.6, 19.3, 20.1, 19.5, 19.5, 20.4, 19.8, 19.4,\n",
            "       21.7, 22.8, 18.8, 18.7, 18.5, 18.3, 21.2, 19.2, 20.4, 19.3, 22. ,\n",
            "       20.3, 20.5, 17.3, 18.8, 21.4, 15.7, 16.2, 18. , 14.3, 19.2, 19.6,\n",
            "       23. , 18.4, 15.6, 18.1, 17.4, 17.1, 13.3, 17.8, 14. , 14.4, 13.4,\n",
            "       15.6, 11.8, 13.8, 15.6, 14.6, 17.8, 15.4, 21.5, 19.6, 15.3, 19.4,\n",
            "       17. , 15.6, 13.1, 41.3, 24.3, 23.3, 27. , 50. , 50. , 50. , 22.7,\n",
            "       25. , 50. , 23.8, 23.8, 22.3, 17.4, 19.1, 23.1, 23.6, 22.6, 29.4,\n",
            "       23.2, 24.6, 29.9, 37.2, 39.8, 36.2, 37.9, 32.5, 26.4, 29.6, 50. ,\n",
            "       32. , 29.8, 34.9, 37. , 30.5, 36.4, 31.1, 29.1, 50. , 33.3, 30.3,\n",
            "       34.6, 34.9, 32.9, 24.1, 42.3, 48.5, 50. , 22.6, 24.4, 22.5, 24.4,\n",
            "       20. , 21.7, 19.3, 22.4, 28.1, 23.7, 25. , 23.3, 28.7, 21.5, 23. ,\n",
            "       26.7, 21.7, 27.5, 30.1, 44.8, 50. , 37.6, 31.6, 46.7, 31.5, 24.3,\n",
            "       31.7, 41.7, 48.3, 29. , 24. , 25.1, 31.5, 23.7, 23.3, 22. , 20.1,\n",
            "       22.2, 23.7, 17.6, 18.5, 24.3, 20.5, 24.5, 26.2, 24.4, 24.8, 29.6,\n",
            "       42.8, 21.9, 20.9, 44. , 50. , 36. , 30.1, 33.8, 43.1, 48.8, 31. ,\n",
            "       36.5, 22.8, 30.7, 50. , 43.5, 20.7, 21.1, 25.2, 24.4, 35.2, 32.4,\n",
            "       32. , 33.2, 33.1, 29.1, 35.1, 45.4, 35.4, 46. , 50. , 32.2, 22. ,\n",
            "       20.1, 23.2, 22.3, 24.8, 28.5, 37.3, 27.9, 23.9, 21.7, 28.6, 27.1,\n",
            "       20.3, 22.5, 29. , 24.8, 22. , 26.4, 33.1, 36.1, 28.4, 33.4, 28.2,\n",
            "       22.8, 20.3, 16.1, 22.1, 19.4, 21.6, 23.8, 16.2, 17.8, 19.8, 23.1,\n",
            "       21. , 23.8, 23.1, 20.4, 18.5, 25. , 24.6, 23. , 22.2, 19.3, 22.6,\n",
            "       19.8, 17.1, 19.4, 22.2, 20.7, 21.1, 19.5, 18.5, 20.6, 19. , 18.7,\n",
            "       32.7, 16.5, 23.9, 31.2, 17.5, 17.2, 23.1, 24.5, 26.6, 22.9, 24.1,\n",
            "       18.6, 30.1, 18.2, 20.6, 17.8, 21.7, 22.7, 22.6, 25. , 19.9, 20.8,\n",
            "       16.8, 21.9, 27.5, 21.9, 23.1, 50. , 50. , 50. , 50. , 50. , 13.8,\n",
            "       13.8, 15. , 13.9, 13.3, 13.1, 10.2, 10.4, 10.9, 11.3, 12.3,  8.8,\n",
            "        7.2, 10.5,  7.4, 10.2, 11.5, 15.1, 23.2,  9.7, 13.8, 12.7, 13.1,\n",
            "       12.5,  8.5,  5. ,  6.3,  5.6,  7.2, 12.1,  8.3,  8.5,  5. , 11.9,\n",
            "       27.9, 17.2, 27.5, 15. , 17.2, 17.9, 16.3,  7. ,  7.2,  7.5, 10.4,\n",
            "        8.8,  8.4, 16.7, 14.2, 20.8, 13.4, 11.7,  8.3, 10.2, 10.9, 11. ,\n",
            "        9.5, 14.5, 14.1, 16.1, 14.3, 11.7, 13.4,  9.6,  8.7,  8.4, 12.8,\n",
            "       10.5, 17.1, 18.4, 15.4, 10.8, 11.8, 14.9, 12.6, 14.1, 13. , 13.4,\n",
            "       15.2, 16.1, 17.8, 14.9, 14.1, 12.7, 13.5, 14.9, 20. , 16.4, 17.7,\n",
            "       19.5, 20.2, 21.4, 19.9, 19. , 19.1, 19.1, 20.1, 19.9, 19.6, 23.2,\n",
            "       29.8, 13.8, 13.3, 16.7, 12. , 14.6, 21.4, 23. , 23.7, 25. , 21.8,\n",
            "       20.6, 21.2, 19.1, 20.6, 15.2,  7. ,  8.1, 13.6, 20.1, 21.8, 24.5,\n",
            "       23.1, 19.7, 18.3, 21.2, 17.5, 16.8, 22.4, 20.6, 23.9, 22. , 11.9]), 'feature_names': array(['CRIM', 'ZN', 'INDUS', 'CHAS', 'NOX', 'RM', 'AGE', 'DIS', 'RAD',\n",
            "       'TAX', 'PTRATIO', 'B', 'LSTAT'], dtype='<U7'), 'DESCR': \".. _boston_dataset:\\n\\nBoston house prices dataset\\n---------------------------\\n\\n**Data Set Characteristics:**  \\n\\n    :Number of Instances: 506 \\n\\n    :Number of Attributes: 13 numeric/categorical predictive. Median Value (attribute 14) is usually the target.\\n\\n    :Attribute Information (in order):\\n        - CRIM     per capita crime rate by town\\n        - ZN       proportion of residential land zoned for lots over 25,000 sq.ft.\\n        - INDUS    proportion of non-retail business acres per town\\n        - CHAS     Charles River dummy variable (= 1 if tract bounds river; 0 otherwise)\\n        - NOX      nitric oxides concentration (parts per 10 million)\\n        - RM       average number of rooms per dwelling\\n        - AGE      proportion of owner-occupied units built prior to 1940\\n        - DIS      weighted distances to five Boston employment centres\\n        - RAD      index of accessibility to radial highways\\n        - TAX      full-value property-tax rate per $10,000\\n        - PTRATIO  pupil-teacher ratio by town\\n        - B        1000(Bk - 0.63)^2 where Bk is the proportion of black people by town\\n        - LSTAT    % lower status of the population\\n        - MEDV     Median value of owner-occupied homes in $1000's\\n\\n    :Missing Attribute Values: None\\n\\n    :Creator: Harrison, D. and Rubinfeld, D.L.\\n\\nThis is a copy of UCI ML housing dataset.\\nhttps://archive.ics.uci.edu/ml/machine-learning-databases/housing/\\n\\n\\nThis dataset was taken from the StatLib library which is maintained at Carnegie Mellon University.\\n\\nThe Boston house-price data of Harrison, D. and Rubinfeld, D.L. 'Hedonic\\nprices and the demand for clean air', J. Environ. Economics & Management,\\nvol.5, 81-102, 1978.   Used in Belsley, Kuh & Welsch, 'Regression diagnostics\\n...', Wiley, 1980.   N.B. Various transformations are used in the table on\\npages 244-261 of the latter.\\n\\nThe Boston house-price data has been used in many machine learning papers that address regression\\nproblems.   \\n     \\n.. topic:: References\\n\\n   - Belsley, Kuh & Welsch, 'Regression diagnostics: Identifying Influential Data and Sources of Collinearity', Wiley, 1980. 244-261.\\n   - Quinlan,R. (1993). Combining Instance-Based and Model-Based Learning. In Proceedings on the Tenth International Conference of Machine Learning, 236-243, University of Massachusetts, Amherst. Morgan Kaufmann.\\n\", 'filename': 'boston_house_prices.csv', 'data_module': 'sklearn.datasets.data'}\n"
          ]
        },
        {
          "output_type": "stream",
          "name": "stderr",
          "text": [
            "/usr/local/lib/python3.7/dist-packages/sklearn/utils/deprecation.py:87: FutureWarning: Function load_boston is deprecated; `load_boston` is deprecated in 1.0 and will be removed in 1.2.\n",
            "\n",
            "    The Boston housing prices dataset has an ethical problem. You can refer to\n",
            "    the documentation of this function for further details.\n",
            "\n",
            "    The scikit-learn maintainers therefore strongly discourage the use of this\n",
            "    dataset unless the purpose of the code is to study and educate about\n",
            "    ethical issues in data science and machine learning.\n",
            "\n",
            "    In this special case, you can fetch the dataset from the original\n",
            "    source::\n",
            "\n",
            "        import pandas as pd\n",
            "        import numpy as np\n",
            "\n",
            "\n",
            "        data_url = \"http://lib.stat.cmu.edu/datasets/boston\"\n",
            "        raw_df = pd.read_csv(data_url, sep=\"\\s+\", skiprows=22, header=None)\n",
            "        data = np.hstack([raw_df.values[::2, :], raw_df.values[1::2, :2]])\n",
            "        target = raw_df.values[1::2, 2]\n",
            "\n",
            "    Alternative datasets include the California housing dataset (i.e.\n",
            "    :func:`~sklearn.datasets.fetch_california_housing`) and the Ames housing\n",
            "    dataset. You can load the datasets as follows::\n",
            "\n",
            "        from sklearn.datasets import fetch_california_housing\n",
            "        housing = fetch_california_housing()\n",
            "\n",
            "    for the California housing dataset and::\n",
            "\n",
            "        from sklearn.datasets import fetch_openml\n",
            "        housing = fetch_openml(name=\"house_prices\", as_frame=True)\n",
            "\n",
            "    for the Ames housing dataset.\n",
            "    \n",
            "  warnings.warn(msg, category=FutureWarning)\n"
          ]
        }
      ]
    },
    {
      "cell_type": "code",
      "source": [
        "boston.keys()"
      ],
      "metadata": {
        "colab": {
          "base_uri": "https://localhost:8080/"
        },
        "id": "qw8Cs7TT28GQ",
        "outputId": "2f748723-d879-4580-fd6c-cd243def22b8"
      },
      "execution_count": null,
      "outputs": [
        {
          "output_type": "execute_result",
          "data": {
            "text/plain": [
              "dict_keys(['data', 'target', 'feature_names', 'DESCR', 'filename', 'data_module'])"
            ]
          },
          "metadata": {},
          "execution_count": 6
        }
      ]
    },
    {
      "cell_type": "code",
      "source": [
        "boston['data'].shape"
      ],
      "metadata": {
        "colab": {
          "base_uri": "https://localhost:8080/"
        },
        "id": "eBKgKtcV4BQn",
        "outputId": "1a154e04-2140-48c5-bac5-08b6623bb667"
      },
      "execution_count": null,
      "outputs": [
        {
          "output_type": "execute_result",
          "data": {
            "text/plain": [
              "(506, 13)"
            ]
          },
          "metadata": {},
          "execution_count": 7
        }
      ]
    },
    {
      "cell_type": "code",
      "source": [
        "print(boston.data.shape)"
      ],
      "metadata": {
        "colab": {
          "base_uri": "https://localhost:8080/"
        },
        "id": "-gzoiVYB4Nzy",
        "outputId": "792f65f6-7090-4c74-cadd-e82a21ff3414"
      },
      "execution_count": null,
      "outputs": [
        {
          "output_type": "stream",
          "name": "stdout",
          "text": [
            "(506, 13)\n"
          ]
        }
      ]
    },
    {
      "cell_type": "code",
      "source": [
        "print(boston.target.shape)"
      ],
      "metadata": {
        "colab": {
          "base_uri": "https://localhost:8080/"
        },
        "id": "sGIvA3L84vdo",
        "outputId": "9998bafb-ce4f-4316-b78d-f79d04ce7b14"
      },
      "execution_count": null,
      "outputs": [
        {
          "output_type": "stream",
          "name": "stdout",
          "text": [
            "(506,)\n"
          ]
        }
      ]
    },
    {
      "cell_type": "code",
      "source": [
        "bos=pd.DataFrame(boston.data)"
      ],
      "metadata": {
        "id": "4Mgs57Yv4Xyz"
      },
      "execution_count": null,
      "outputs": []
    },
    {
      "cell_type": "code",
      "source": [
        "print(bos.head())"
      ],
      "metadata": {
        "colab": {
          "base_uri": "https://localhost:8080/"
        },
        "id": "4-44-izQ45vK",
        "outputId": "be2ab73d-106f-4da2-abfe-657e4947a499"
      },
      "execution_count": null,
      "outputs": [
        {
          "output_type": "stream",
          "name": "stdout",
          "text": [
            "        0     1     2    3      4      5     6       7    8      9     10  \\\n",
            "0  0.00632  18.0  2.31  0.0  0.538  6.575  65.2  4.0900  1.0  296.0  15.3   \n",
            "1  0.02731   0.0  7.07  0.0  0.469  6.421  78.9  4.9671  2.0  242.0  17.8   \n",
            "2  0.02729   0.0  7.07  0.0  0.469  7.185  61.1  4.9671  2.0  242.0  17.8   \n",
            "3  0.03237   0.0  2.18  0.0  0.458  6.998  45.8  6.0622  3.0  222.0  18.7   \n",
            "4  0.06905   0.0  2.18  0.0  0.458  7.147  54.2  6.0622  3.0  222.0  18.7   \n",
            "\n",
            "       11    12  \n",
            "0  396.90  4.98  \n",
            "1  396.90  9.14  \n",
            "2  392.83  4.03  \n",
            "3  394.63  2.94  \n",
            "4  396.90  5.33  \n"
          ]
        }
      ]
    },
    {
      "cell_type": "code",
      "source": [
        "print(boston.feature_names)"
      ],
      "metadata": {
        "colab": {
          "base_uri": "https://localhost:8080/"
        },
        "id": "5ma4qq2P5Bmt",
        "outputId": "0152aaba-a3ac-4dab-d6ee-a819e0045319"
      },
      "execution_count": null,
      "outputs": [
        {
          "output_type": "stream",
          "name": "stdout",
          "text": [
            "['CRIM' 'ZN' 'INDUS' 'CHAS' 'NOX' 'RM' 'AGE' 'DIS' 'RAD' 'TAX' 'PTRATIO'\n",
            " 'B' 'LSTAT']\n"
          ]
        }
      ]
    },
    {
      "cell_type": "code",
      "source": [
        "bos.columns=boston.feature_names"
      ],
      "metadata": {
        "id": "4TGmQ64o5NmE"
      },
      "execution_count": null,
      "outputs": []
    },
    {
      "cell_type": "code",
      "source": [
        "print(boston.DESCR)"
      ],
      "metadata": {
        "colab": {
          "base_uri": "https://localhost:8080/"
        },
        "id": "10Jskw7q5Trt",
        "outputId": "91af65aa-11d9-4739-ee28-aa211d30f821"
      },
      "execution_count": null,
      "outputs": [
        {
          "output_type": "stream",
          "name": "stdout",
          "text": [
            ".. _boston_dataset:\n",
            "\n",
            "Boston house prices dataset\n",
            "---------------------------\n",
            "\n",
            "**Data Set Characteristics:**  \n",
            "\n",
            "    :Number of Instances: 506 \n",
            "\n",
            "    :Number of Attributes: 13 numeric/categorical predictive. Median Value (attribute 14) is usually the target.\n",
            "\n",
            "    :Attribute Information (in order):\n",
            "        - CRIM     per capita crime rate by town\n",
            "        - ZN       proportion of residential land zoned for lots over 25,000 sq.ft.\n",
            "        - INDUS    proportion of non-retail business acres per town\n",
            "        - CHAS     Charles River dummy variable (= 1 if tract bounds river; 0 otherwise)\n",
            "        - NOX      nitric oxides concentration (parts per 10 million)\n",
            "        - RM       average number of rooms per dwelling\n",
            "        - AGE      proportion of owner-occupied units built prior to 1940\n",
            "        - DIS      weighted distances to five Boston employment centres\n",
            "        - RAD      index of accessibility to radial highways\n",
            "        - TAX      full-value property-tax rate per $10,000\n",
            "        - PTRATIO  pupil-teacher ratio by town\n",
            "        - B        1000(Bk - 0.63)^2 where Bk is the proportion of black people by town\n",
            "        - LSTAT    % lower status of the population\n",
            "        - MEDV     Median value of owner-occupied homes in $1000's\n",
            "\n",
            "    :Missing Attribute Values: None\n",
            "\n",
            "    :Creator: Harrison, D. and Rubinfeld, D.L.\n",
            "\n",
            "This is a copy of UCI ML housing dataset.\n",
            "https://archive.ics.uci.edu/ml/machine-learning-databases/housing/\n",
            "\n",
            "\n",
            "This dataset was taken from the StatLib library which is maintained at Carnegie Mellon University.\n",
            "\n",
            "The Boston house-price data of Harrison, D. and Rubinfeld, D.L. 'Hedonic\n",
            "prices and the demand for clean air', J. Environ. Economics & Management,\n",
            "vol.5, 81-102, 1978.   Used in Belsley, Kuh & Welsch, 'Regression diagnostics\n",
            "...', Wiley, 1980.   N.B. Various transformations are used in the table on\n",
            "pages 244-261 of the latter.\n",
            "\n",
            "The Boston house-price data has been used in many machine learning papers that address regression\n",
            "problems.   \n",
            "     \n",
            ".. topic:: References\n",
            "\n",
            "   - Belsley, Kuh & Welsch, 'Regression diagnostics: Identifying Influential Data and Sources of Collinearity', Wiley, 1980. 244-261.\n",
            "   - Quinlan,R. (1993). Combining Instance-Based and Model-Based Learning. In Proceedings on the Tenth International Conference of Machine Learning, 236-243, University of Massachusetts, Amherst. Morgan Kaufmann.\n",
            "\n"
          ]
        }
      ]
    },
    {
      "cell_type": "code",
      "source": [
        "print(boston.target)"
      ],
      "metadata": {
        "colab": {
          "base_uri": "https://localhost:8080/"
        },
        "id": "Gud5I5YK5j6W",
        "outputId": "963af99b-8991-46f5-d9f0-cfa88ffa4e4e"
      },
      "execution_count": null,
      "outputs": [
        {
          "output_type": "stream",
          "name": "stdout",
          "text": [
            "[24.  21.6 34.7 33.4 36.2 28.7 22.9 27.1 16.5 18.9 15.  18.9 21.7 20.4\n",
            " 18.2 19.9 23.1 17.5 20.2 18.2 13.6 19.6 15.2 14.5 15.6 13.9 16.6 14.8\n",
            " 18.4 21.  12.7 14.5 13.2 13.1 13.5 18.9 20.  21.  24.7 30.8 34.9 26.6\n",
            " 25.3 24.7 21.2 19.3 20.  16.6 14.4 19.4 19.7 20.5 25.  23.4 18.9 35.4\n",
            " 24.7 31.6 23.3 19.6 18.7 16.  22.2 25.  33.  23.5 19.4 22.  17.4 20.9\n",
            " 24.2 21.7 22.8 23.4 24.1 21.4 20.  20.8 21.2 20.3 28.  23.9 24.8 22.9\n",
            " 23.9 26.6 22.5 22.2 23.6 28.7 22.6 22.  22.9 25.  20.6 28.4 21.4 38.7\n",
            " 43.8 33.2 27.5 26.5 18.6 19.3 20.1 19.5 19.5 20.4 19.8 19.4 21.7 22.8\n",
            " 18.8 18.7 18.5 18.3 21.2 19.2 20.4 19.3 22.  20.3 20.5 17.3 18.8 21.4\n",
            " 15.7 16.2 18.  14.3 19.2 19.6 23.  18.4 15.6 18.1 17.4 17.1 13.3 17.8\n",
            " 14.  14.4 13.4 15.6 11.8 13.8 15.6 14.6 17.8 15.4 21.5 19.6 15.3 19.4\n",
            " 17.  15.6 13.1 41.3 24.3 23.3 27.  50.  50.  50.  22.7 25.  50.  23.8\n",
            " 23.8 22.3 17.4 19.1 23.1 23.6 22.6 29.4 23.2 24.6 29.9 37.2 39.8 36.2\n",
            " 37.9 32.5 26.4 29.6 50.  32.  29.8 34.9 37.  30.5 36.4 31.1 29.1 50.\n",
            " 33.3 30.3 34.6 34.9 32.9 24.1 42.3 48.5 50.  22.6 24.4 22.5 24.4 20.\n",
            " 21.7 19.3 22.4 28.1 23.7 25.  23.3 28.7 21.5 23.  26.7 21.7 27.5 30.1\n",
            " 44.8 50.  37.6 31.6 46.7 31.5 24.3 31.7 41.7 48.3 29.  24.  25.1 31.5\n",
            " 23.7 23.3 22.  20.1 22.2 23.7 17.6 18.5 24.3 20.5 24.5 26.2 24.4 24.8\n",
            " 29.6 42.8 21.9 20.9 44.  50.  36.  30.1 33.8 43.1 48.8 31.  36.5 22.8\n",
            " 30.7 50.  43.5 20.7 21.1 25.2 24.4 35.2 32.4 32.  33.2 33.1 29.1 35.1\n",
            " 45.4 35.4 46.  50.  32.2 22.  20.1 23.2 22.3 24.8 28.5 37.3 27.9 23.9\n",
            " 21.7 28.6 27.1 20.3 22.5 29.  24.8 22.  26.4 33.1 36.1 28.4 33.4 28.2\n",
            " 22.8 20.3 16.1 22.1 19.4 21.6 23.8 16.2 17.8 19.8 23.1 21.  23.8 23.1\n",
            " 20.4 18.5 25.  24.6 23.  22.2 19.3 22.6 19.8 17.1 19.4 22.2 20.7 21.1\n",
            " 19.5 18.5 20.6 19.  18.7 32.7 16.5 23.9 31.2 17.5 17.2 23.1 24.5 26.6\n",
            " 22.9 24.1 18.6 30.1 18.2 20.6 17.8 21.7 22.7 22.6 25.  19.9 20.8 16.8\n",
            " 21.9 27.5 21.9 23.1 50.  50.  50.  50.  50.  13.8 13.8 15.  13.9 13.3\n",
            " 13.1 10.2 10.4 10.9 11.3 12.3  8.8  7.2 10.5  7.4 10.2 11.5 15.1 23.2\n",
            "  9.7 13.8 12.7 13.1 12.5  8.5  5.   6.3  5.6  7.2 12.1  8.3  8.5  5.\n",
            " 11.9 27.9 17.2 27.5 15.  17.2 17.9 16.3  7.   7.2  7.5 10.4  8.8  8.4\n",
            " 16.7 14.2 20.8 13.4 11.7  8.3 10.2 10.9 11.   9.5 14.5 14.1 16.1 14.3\n",
            " 11.7 13.4  9.6  8.7  8.4 12.8 10.5 17.1 18.4 15.4 10.8 11.8 14.9 12.6\n",
            " 14.1 13.  13.4 15.2 16.1 17.8 14.9 14.1 12.7 13.5 14.9 20.  16.4 17.7\n",
            " 19.5 20.2 21.4 19.9 19.  19.1 19.1 20.1 19.9 19.6 23.2 29.8 13.8 13.3\n",
            " 16.7 12.  14.6 21.4 23.  23.7 25.  21.8 20.6 21.2 19.1 20.6 15.2  7.\n",
            "  8.1 13.6 20.1 21.8 24.5 23.1 19.7 18.3 21.2 17.5 16.8 22.4 20.6 23.9\n",
            " 22.  11.9]\n"
          ]
        }
      ]
    },
    {
      "cell_type": "code",
      "source": [
        "print(bos.head())"
      ],
      "metadata": {
        "colab": {
          "base_uri": "https://localhost:8080/"
        },
        "id": "3m9U6WDA5aDK",
        "outputId": "0d14c31e-0649-42dd-8409-787dd37b5f8e"
      },
      "execution_count": null,
      "outputs": [
        {
          "output_type": "stream",
          "name": "stdout",
          "text": [
            "      CRIM    ZN  INDUS  CHAS    NOX     RM   AGE     DIS  RAD    TAX  \\\n",
            "0  0.00632  18.0   2.31   0.0  0.538  6.575  65.2  4.0900  1.0  296.0   \n",
            "1  0.02731   0.0   7.07   0.0  0.469  6.421  78.9  4.9671  2.0  242.0   \n",
            "2  0.02729   0.0   7.07   0.0  0.469  7.185  61.1  4.9671  2.0  242.0   \n",
            "3  0.03237   0.0   2.18   0.0  0.458  6.998  45.8  6.0622  3.0  222.0   \n",
            "4  0.06905   0.0   2.18   0.0  0.458  7.147  54.2  6.0622  3.0  222.0   \n",
            "\n",
            "   PTRATIO       B  LSTAT  \n",
            "0     15.3  396.90   4.98  \n",
            "1     17.8  396.90   9.14  \n",
            "2     17.8  392.83   4.03  \n",
            "3     18.7  394.63   2.94  \n",
            "4     18.7  396.90   5.33  \n"
          ]
        }
      ]
    },
    {
      "cell_type": "code",
      "source": [
        "bos['Price']=boston.target"
      ],
      "metadata": {
        "id": "RhYB147e5sQr"
      },
      "execution_count": null,
      "outputs": []
    },
    {
      "cell_type": "code",
      "source": [
        "print(bos.shape)"
      ],
      "metadata": {
        "colab": {
          "base_uri": "https://localhost:8080/"
        },
        "id": "4hER1i9357WX",
        "outputId": "3a86e7c3-4da6-4971-9965-e8c9b280fc5b"
      },
      "execution_count": null,
      "outputs": [
        {
          "output_type": "stream",
          "name": "stdout",
          "text": [
            "(506, 14)\n"
          ]
        }
      ]
    },
    {
      "cell_type": "code",
      "source": [
        "print(bos)"
      ],
      "metadata": {
        "colab": {
          "base_uri": "https://localhost:8080/"
        },
        "id": "L_JNK9DX59Zo",
        "outputId": "054f4462-d412-48a0-c970-2f1b096e4241"
      },
      "execution_count": null,
      "outputs": [
        {
          "output_type": "stream",
          "name": "stdout",
          "text": [
            "        CRIM    ZN  INDUS  CHAS    NOX     RM   AGE     DIS  RAD    TAX  \\\n",
            "0    0.00632  18.0   2.31   0.0  0.538  6.575  65.2  4.0900  1.0  296.0   \n",
            "1    0.02731   0.0   7.07   0.0  0.469  6.421  78.9  4.9671  2.0  242.0   \n",
            "2    0.02729   0.0   7.07   0.0  0.469  7.185  61.1  4.9671  2.0  242.0   \n",
            "3    0.03237   0.0   2.18   0.0  0.458  6.998  45.8  6.0622  3.0  222.0   \n",
            "4    0.06905   0.0   2.18   0.0  0.458  7.147  54.2  6.0622  3.0  222.0   \n",
            "..       ...   ...    ...   ...    ...    ...   ...     ...  ...    ...   \n",
            "501  0.06263   0.0  11.93   0.0  0.573  6.593  69.1  2.4786  1.0  273.0   \n",
            "502  0.04527   0.0  11.93   0.0  0.573  6.120  76.7  2.2875  1.0  273.0   \n",
            "503  0.06076   0.0  11.93   0.0  0.573  6.976  91.0  2.1675  1.0  273.0   \n",
            "504  0.10959   0.0  11.93   0.0  0.573  6.794  89.3  2.3889  1.0  273.0   \n",
            "505  0.04741   0.0  11.93   0.0  0.573  6.030  80.8  2.5050  1.0  273.0   \n",
            "\n",
            "     PTRATIO       B  LSTAT  Price  \n",
            "0       15.3  396.90   4.98   24.0  \n",
            "1       17.8  396.90   9.14   21.6  \n",
            "2       17.8  392.83   4.03   34.7  \n",
            "3       18.7  394.63   2.94   33.4  \n",
            "4       18.7  396.90   5.33   36.2  \n",
            "..       ...     ...    ...    ...  \n",
            "501     21.0  391.99   9.67   22.4  \n",
            "502     21.0  396.90   9.08   20.6  \n",
            "503     21.0  396.90   5.64   23.9  \n",
            "504     21.0  393.45   6.48   22.0  \n",
            "505     21.0  396.90   7.88   11.9  \n",
            "\n",
            "[506 rows x 14 columns]\n"
          ]
        }
      ]
    },
    {
      "cell_type": "code",
      "source": [
        "Y=bos['Price'] #dependent variable"
      ],
      "metadata": {
        "id": "7sKLFfHd6BlQ"
      },
      "execution_count": null,
      "outputs": []
    },
    {
      "cell_type": "code",
      "source": [
        "X=bos.drop('Price',axis=1) #independnt variable"
      ],
      "metadata": {
        "id": "JrXh6gMl6Y2I"
      },
      "execution_count": null,
      "outputs": []
    },
    {
      "cell_type": "code",
      "source": [
        "print(X.head())"
      ],
      "metadata": {
        "colab": {
          "base_uri": "https://localhost:8080/"
        },
        "id": "tJYZeV5c6h0l",
        "outputId": "87b0c938-2d4e-4ded-bc35-f606ff08f00c"
      },
      "execution_count": null,
      "outputs": [
        {
          "output_type": "stream",
          "name": "stdout",
          "text": [
            "      CRIM    ZN  INDUS  CHAS    NOX     RM   AGE     DIS  RAD    TAX  \\\n",
            "0  0.00632  18.0   2.31   0.0  0.538  6.575  65.2  4.0900  1.0  296.0   \n",
            "1  0.02731   0.0   7.07   0.0  0.469  6.421  78.9  4.9671  2.0  242.0   \n",
            "2  0.02729   0.0   7.07   0.0  0.469  7.185  61.1  4.9671  2.0  242.0   \n",
            "3  0.03237   0.0   2.18   0.0  0.458  6.998  45.8  6.0622  3.0  222.0   \n",
            "4  0.06905   0.0   2.18   0.0  0.458  7.147  54.2  6.0622  3.0  222.0   \n",
            "\n",
            "   PTRATIO       B  LSTAT  \n",
            "0     15.3  396.90   4.98  \n",
            "1     17.8  396.90   9.14  \n",
            "2     17.8  392.83   4.03  \n",
            "3     18.7  394.63   2.94  \n",
            "4     18.7  396.90   5.33  \n"
          ]
        }
      ]
    },
    {
      "cell_type": "code",
      "source": [
        "print(Y.head())"
      ],
      "metadata": {
        "colab": {
          "base_uri": "https://localhost:8080/"
        },
        "id": "VK90milv6nRz",
        "outputId": "d1c15536-b38d-45c8-a310-ddfab621ade4"
      },
      "execution_count": null,
      "outputs": [
        {
          "output_type": "stream",
          "name": "stdout",
          "text": [
            "0    24.0\n",
            "1    21.6\n",
            "2    34.7\n",
            "3    33.4\n",
            "4    36.2\n",
            "Name: Price, dtype: float64\n"
          ]
        }
      ]
    },
    {
      "cell_type": "code",
      "source": [
        "X_train,X_test,Y_train,Y_test=sklearn.model_selection.train_test_split(X,Y,test_size=0.33,random_state=5)"
      ],
      "metadata": {
        "id": "IvhGAppM6qM2"
      },
      "execution_count": null,
      "outputs": []
    },
    {
      "cell_type": "code",
      "source": [
        "lm=LinearRegression()"
      ],
      "metadata": {
        "id": "w1f65FQY7R5K"
      },
      "execution_count": null,
      "outputs": []
    },
    {
      "cell_type": "code",
      "source": [
        "lm.fit(X_train,Y_train)"
      ],
      "metadata": {
        "colab": {
          "base_uri": "https://localhost:8080/"
        },
        "id": "T1JCry3V7dNo",
        "outputId": "76bd4021-2efc-42de-f523-1f5435cfbb8d"
      },
      "execution_count": null,
      "outputs": [
        {
          "output_type": "execute_result",
          "data": {
            "text/plain": [
              "LinearRegression()"
            ]
          },
          "metadata": {},
          "execution_count": 28
        }
      ]
    },
    {
      "cell_type": "code",
      "source": [
        "Y_train_pred=lm.predict(X_train)\n",
        "Y_test_pred=lm.predict(X_test)"
      ],
      "metadata": {
        "id": "5lHOAJJ77jL7"
      },
      "execution_count": null,
      "outputs": []
    },
    {
      "cell_type": "code",
      "source": [
        "df=pd.DataFrame(Y_test_pred,Y_test)"
      ],
      "metadata": {
        "id": "MIaOa_lo7win"
      },
      "execution_count": null,
      "outputs": []
    },
    {
      "cell_type": "code",
      "source": [
        "print(df.head())"
      ],
      "metadata": {
        "colab": {
          "base_uri": "https://localhost:8080/"
        },
        "id": "bvyfI58D8AXh",
        "outputId": "3a6fb7dc-76bf-4d3d-9422-eaf356e7b03e"
      },
      "execution_count": null,
      "outputs": [
        {
          "output_type": "stream",
          "name": "stdout",
          "text": [
            "               0\n",
            "Price           \n",
            "37.6   37.467236\n",
            "27.9   31.391547\n",
            "22.6   27.120196\n",
            "13.8    6.468433\n",
            "35.2   33.629667\n"
          ]
        }
      ]
    },
    {
      "cell_type": "code",
      "source": [
        "mse=mean_squared_error(Y_test,Y_test_pred)"
      ],
      "metadata": {
        "id": "9Tm8-AOp8CUH"
      },
      "execution_count": null,
      "outputs": []
    },
    {
      "cell_type": "code",
      "source": [
        "print(mse)"
      ],
      "metadata": {
        "colab": {
          "base_uri": "https://localhost:8080/"
        },
        "id": "_yov6Zck9xT0",
        "outputId": "ed99e734-bc57-4625-9014-6d6d133a9895"
      },
      "execution_count": null,
      "outputs": [
        {
          "output_type": "stream",
          "name": "stdout",
          "text": [
            "28.530458765974597\n"
          ]
        }
      ]
    },
    {
      "cell_type": "code",
      "source": [
        "lm.score(X_train,Y_train)"
      ],
      "metadata": {
        "colab": {
          "base_uri": "https://localhost:8080/"
        },
        "id": "KChCpg1O9ySV",
        "outputId": "11e5d71d-c089-46a2-94a0-b156d6863240"
      },
      "execution_count": null,
      "outputs": [
        {
          "output_type": "execute_result",
          "data": {
            "text/plain": [
              "0.7551332741779998"
            ]
          },
          "metadata": {},
          "execution_count": 34
        }
      ]
    },
    {
      "cell_type": "code",
      "source": [
        "lm.score(X_test,Y_test)"
      ],
      "metadata": {
        "colab": {
          "base_uri": "https://localhost:8080/"
        },
        "id": "LAcBdiyY-cwH",
        "outputId": "9e62a6cb-ac84-48cc-fd71-d2f59a8facd9"
      },
      "execution_count": null,
      "outputs": [
        {
          "output_type": "execute_result",
          "data": {
            "text/plain": [
              "0.6956551656111605"
            ]
          },
          "metadata": {},
          "execution_count": 35
        }
      ]
    },
    {
      "cell_type": "code",
      "source": [
        "plt.scatter(Y_train,Y_train_pred,c='blue',marker='o',label='Training data')\n",
        "plt.scatter(Y_test,Y_test_pred,c='red',marker='s',label='Test Data')\n",
        "plt.xlabel(\"Actual Values\")\n",
        "plt.ylabel(\"Predicted\")\n",
        "plt.title(\"Actual vs Predicted \")\n",
        "plt.legend(loc='upper left')\n",
        "plt.plot()\n",
        "plt.show()"
      ],
      "metadata": {
        "colab": {
          "base_uri": "https://localhost:8080/",
          "height": 294
        },
        "id": "MRQ4L_ui-i_u",
        "outputId": "a1f5287d-8062-4b08-8817-c53647e93e2b"
      },
      "execution_count": null,
      "outputs": [
        {
          "output_type": "display_data",
          "data": {
            "text/plain": [
              "<Figure size 432x288 with 1 Axes>"
            ],
            "image/png": "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\n"
          },
          "metadata": {
            "needs_background": "light"
          }
        }
      ]
    },
    {
      "cell_type": "code",
      "source": [
        "https://scikit-learn.org/stable/datasets/toy_dataset.html\n",
        "\n",
        "load_diabetes(*[, return_X_y, as_frame])\n",
        "\n",
        "Load and return the diabetes dataset (regression).\n"
